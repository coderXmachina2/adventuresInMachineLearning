{
 "cells": [
  {
   "cell_type": "code",
   "execution_count": 14,
   "metadata": {},
   "outputs": [],
   "source": [
    "#Earthquake Dataset Mining\n",
    "\n",
    "import pandas as pd\n",
    "import numpy as np\n",
    "from sklearn.feature_selection import SelectKBest\n",
    "from sklearn.feature_selection import chi2"
   ]
  },
  {
   "cell_type": "code",
   "execution_count": 15,
   "metadata": {},
   "outputs": [],
   "source": [
    "attr  = ['publicid','eventtype',\n",
    "         'origintime','modificationtime',\n",
    "         'longitude','latitude',\n",
    "         'magnitude','depth',\n",
    "         'magnitudetype', 'depthtype',\n",
    "         'evaluationmethod','evaluationstatus',\n",
    "         'evaluationmode','earthmodel',\n",
    "         'usedphasecount','usedstationcount',\n",
    "         'magnitudestationcount', 'minimumdistance',\n",
    "         'azimuthalgap', 'originerror',\n",
    "         'magnitudeuncertainty', 'distance']\n",
    "\n",
    "# publicid eventtype\n",
    "# origintime modificationtime\n",
    "# longitude latitude\n",
    "# magnitude depth\n",
    "# magnitudetype depthtype\n",
    "# evaluationmethod evaluationstatus\n",
    "# evaluationmode earthmodel\n",
    "# usedphasecount usedstationcount\n",
    "# magnitudestationcount minimumdistance\n",
    "# azimuthalgap originerror\n",
    "# magnitudeuncertainty distance\n"
   ]
  },
  {
   "cell_type": "code",
   "execution_count": 16,
   "metadata": {},
   "outputs": [],
   "source": [
    "dFrame = pd.read_csv('aftershockDataset.csv')"
   ]
  },
  {
   "cell_type": "code",
   "execution_count": 17,
   "metadata": {},
   "outputs": [],
   "source": [
    "quakeRecArr  = dFrame.to_records(index=False)"
   ]
  },
  {
   "cell_type": "code",
   "execution_count": 18,
   "metadata": {},
   "outputs": [
    {
     "data": {
      "text/plain": [
       "numpy.recarray"
      ]
     },
     "execution_count": 18,
     "metadata": {},
     "output_type": "execute_result"
    }
   ],
   "source": [
    "type(quakeRecArr)"
   ]
  },
  {
   "cell_type": "code",
   "execution_count": 19,
   "metadata": {},
   "outputs": [
    {
     "name": "stdout",
     "output_type": "stream",
     "text": [
      "('publicid', 'eventtype', 'origintime', 'modificationtime', 'longitude', ' latitude', ' magnitude', ' depth', 'magnitudetype', ' depthtype', 'evaluationmethod', ' evaluationstatus', ' evaluationmode', ' earthmodel', ' usedphasecount', 'usedstationcount', 'magnitudestationcount', ' minimumdistance', 'azimuthalgap', 'originerror', 'magnitudeuncertainty', 'distance')\n"
     ]
    }
   ],
   "source": [
    "print(quakeRecArr.dtype.names)"
   ]
  },
  {
   "cell_type": "code",
   "execution_count": 20,
   "metadata": {},
   "outputs": [],
   "source": [
    "def eyeBallData (data):\n",
    "    N = len(data)\n",
    "    firstEntry = data[0]\n",
    "    firstV = data[:5]\n",
    "    lastInst = data[N-1]\n",
    "    Nattr = len(data[0])\n",
    "    nomDtype = data.dtype.names\n",
    "    \n",
    "    return (N, firstEntry, firstV , lastInst , Nattr, nomDtype)"
   ]
  },
  {
   "cell_type": "code",
   "execution_count": 21,
   "metadata": {},
   "outputs": [
    {
     "name": "stdout",
     "output_type": "stream",
     "text": [
      "The dataset quake Aftershock has 3290 entries.\n",
      "\n",
      "Here is the first Entry:\n",
      "(3366146, 'earthquake', '2010-09-03T16:35:41.836Z', '2013-07-16T14:04:00.000Z', 172.16794, -43.52731, 7.2, 11.0426, 'Mw', nan, 'GROPE', 'reviewed', nan, 'nz1dr', 21, 16, nan, 0.06, 82, 0.14312, nan, 0.)\n",
      "\n",
      "Here are the first 5:\n",
      "[(3366146, 'earthquake', '2010-09-03T16:35:41.836Z', '2013-07-16T14:04:00.000Z', 172.16794, -43.52731, 7.2  , 11.0426, 'Mw', nan, 'GROPE', 'reviewed', nan, 'nz1dr', 21, 16, nan, 0.06 ,  82, 0.14312,   nan,  0.        )\n",
      " (3669651, 'earthquake', '2010-09-03T16:37:02.619Z', '2013-07-16T14:51:00.000Z', 172.32367, -43.55426, 5.815, 10.0257, 'ML', nan, 'GROPE', 'reviewed', nan, 'nz1dr', 39, 23,  7., 0.058,  57, 0.18791, 0.251, 12.90512604)\n",
      " (3669661, 'earthquake', '2010-09-03T16:37:17.769Z', '2013-07-16T14:51:00.000Z', 172.38512, -43.6585 , 5.114,  7.8273, 'ML', nan, 'GROPE', 'reviewed', nan, 'nz1dr', 21, 12,  3., 0.064, 253, 0.08527, 0.186, 22.77521405)\n",
      " (3669676, 'earthquake', '2010-09-03T16:37:36.322Z', '2013-07-16T14:51:00.000Z', 172.29477, -43.5661 , 5.532, 11.8823, 'ML', nan, 'GROPE', 'reviewed', nan, 'nz1dr', 46, 26,  6., 0.069,  68, 0.24771, 0.149, 11.0946823 )\n",
      " (3672822, 'earthquake', '2010-09-03T16:38:17.243Z', '2013-07-16T14:51:00.000Z', 172.18575, -43.4711 , 5.434,  6.2919, 'ML', nan, 'GROPE', 'reviewed', nan, 'nz1dr', 20, 14,  7., 0.064,  88, 0.38259, 0.19 ,  6.41322644)]\n",
      "\n",
      "Here is the last one:\n",
      "(3380928, 'earthquake', '2010-09-30T20:04:58.487Z', '2013-07-16T14:47:00.000Z', 171.75114, -43.56247, 2.662, 5., 'ML', 'operator assigned', 'GROPE', 'reviewed', nan, 'nz1dr', 8, 5, 7., 0.314, 150, 0.2507, 0.254, 33.81992864)\n",
      "\n",
      "Each entry has: 22 attributes. They are ('publicid', 'eventtype', 'origintime', 'modificationtime', 'longitude', ' latitude', ' magnitude', ' depth', 'magnitudetype', ' depthtype', 'evaluationmethod', ' evaluationstatus', ' evaluationmode', ' earthmodel', ' usedphasecount', 'usedstationcount', 'magnitudestationcount', ' minimumdistance', 'azimuthalgap', 'originerror', 'magnitudeuncertainty', 'distance')\n"
     ]
    }
   ],
   "source": [
    "decomposeData = eyeBallData(quakeRecArr)\n",
    "\n",
    "print(\"The dataset quake Aftershock has \" + str(decomposeData[0]) + \" entries.\\n\\n\" +\n",
    "      \"Here is the first Entry:\\n\" + str(decomposeData[1]) + \"\\n\\n\" +\n",
    "      \"Here are the first 5:\\n\" + str(decomposeData[2]) + \"\\n\\n\" +\n",
    "      \"Here is the last one:\\n\" + str(decomposeData[3]) + \"\\n\\n\" + #last\n",
    "      \"Each entry has: \" + str(decomposeData[4]) + ' attributes. They are ' + str(decomposeData[5])\n",
    "     )"
   ]
  },
  {
   "cell_type": "code",
   "execution_count": null,
   "metadata": {},
   "outputs": [],
   "source": []
  },
  {
   "cell_type": "code",
   "execution_count": 52,
   "metadata": {},
   "outputs": [
    {
     "data": {
      "text/plain": [
       "array([172.16794, 172.32367, 172.38512, ..., 171.88284, 172.41629,\n",
       "       171.75114])"
      ]
     },
     "execution_count": 52,
     "metadata": {},
     "output_type": "execute_result"
    }
   ],
   "source": [
    "longData"
   ]
  },
  {
   "cell_type": "code",
   "execution_count": 51,
   "metadata": {},
   "outputs": [
    {
     "ename": "IndexError",
     "evalue": "too many indices for array",
     "output_type": "error",
     "traceback": [
      "\u001b[1;31m---------------------------------------------------------------------------\u001b[0m",
      "\u001b[1;31mIndexError\u001b[0m                                Traceback (most recent call last)",
      "\u001b[1;32m<ipython-input-51-48949d6e0cd9>\u001b[0m in \u001b[0;36m<module>\u001b[1;34m\u001b[0m\n\u001b[0;32m      6\u001b[0m \u001b[0mx\u001b[0m \u001b[1;33m=\u001b[0m \u001b[0mnp\u001b[0m\u001b[1;33m.\u001b[0m\u001b[0marray\u001b[0m\u001b[1;33m(\u001b[0m\u001b[1;33m[\u001b[0m\u001b[1;33m]\u001b[0m\u001b[1;33m,\u001b[0m\u001b[0mdtype\u001b[0m\u001b[1;33m=\u001b[0m\u001b[1;33m[\u001b[0m\u001b[1;33m(\u001b[0m\u001b[1;34m'longitude'\u001b[0m\u001b[1;33m,\u001b[0m \u001b[1;34m'c16'\u001b[0m\u001b[1;33m)\u001b[0m\u001b[1;33m,\u001b[0m \u001b[1;33m(\u001b[0m\u001b[1;34m'latitude'\u001b[0m\u001b[1;33m,\u001b[0m \u001b[1;34m'f'\u001b[0m\u001b[1;33m)\u001b[0m\u001b[1;33m,\u001b[0m \u001b[1;33m(\u001b[0m\u001b[1;34m'depth'\u001b[0m\u001b[1;33m,\u001b[0m \u001b[1;34m'f'\u001b[0m\u001b[1;33m)\u001b[0m\u001b[1;33m,\u001b[0m \u001b[1;33m(\u001b[0m\u001b[1;34m'magnitude'\u001b[0m\u001b[1;33m,\u001b[0m \u001b[1;34m'f'\u001b[0m\u001b[1;33m)\u001b[0m\u001b[1;33m]\u001b[0m\u001b[1;33m)\u001b[0m\u001b[1;33m\u001b[0m\u001b[1;33m\u001b[0m\u001b[0m\n\u001b[0;32m      7\u001b[0m \u001b[1;33m\u001b[0m\u001b[0m\n\u001b[1;32m----> 8\u001b[1;33m \u001b[0mx\u001b[0m\u001b[1;33m[\u001b[0m\u001b[1;33m:\u001b[0m \u001b[1;33m,\u001b[0m\u001b[1;36m0\u001b[0m\u001b[1;33m]\u001b[0m \u001b[1;33m=\u001b[0m \u001b[0mlongData\u001b[0m\u001b[1;33m\u001b[0m\u001b[1;33m\u001b[0m\u001b[0m\n\u001b[0m\u001b[0;32m      9\u001b[0m \u001b[0mx\u001b[0m\u001b[1;33m[\u001b[0m\u001b[1;33m:\u001b[0m \u001b[1;33m,\u001b[0m\u001b[1;36m1\u001b[0m\u001b[1;33m]\u001b[0m \u001b[1;33m=\u001b[0m \u001b[0mlatData\u001b[0m\u001b[1;33m\u001b[0m\u001b[1;33m\u001b[0m\u001b[0m\n\u001b[0;32m     10\u001b[0m \u001b[0mx\u001b[0m\u001b[1;33m[\u001b[0m\u001b[1;33m:\u001b[0m \u001b[1;33m,\u001b[0m\u001b[1;36m2\u001b[0m\u001b[1;33m]\u001b[0m \u001b[1;33m=\u001b[0m \u001b[0mdepthData\u001b[0m\u001b[1;33m\u001b[0m\u001b[1;33m\u001b[0m\u001b[0m\n",
      "\u001b[1;31mIndexError\u001b[0m: too many indices for array"
     ]
    }
   ],
   "source": [
    "longData = quakeRecArr['longitude']\n",
    "latData = quakeRecArr[' latitude']\n",
    "depthData = quakeRecArr[' depth']\n",
    "magData = quakeRecArr[' magnitude']\n",
    "\n",
    "x = np.array([],dtype=[('longitude', 'c16'), ('latitude', 'f'), ('depth', 'f'), ('magnitude', 'f')])\n",
    "\n",
    "x[: ,0] = longData\n",
    "x[: ,1] = latData\n",
    "x[: ,2] = depthData\n",
    "x[: ,3] = magData "
   ]
  },
  {
   "cell_type": "code",
   "execution_count": 43,
   "metadata": {},
   "outputs": [
    {
     "name": "stdout",
     "output_type": "stream",
     "text": [
      "The dataset quake Aftershock has 3290 entries.\n",
      "\n",
      "Here is the first Entry:\n",
      "[172.16794 -43.52731  11.0426    7.2    ]\n",
      "\n",
      "Here are the first 5:\n",
      "[[172.16794 -43.52731  11.0426    7.2    ]\n",
      " [172.32367 -43.55426  10.0257    5.815  ]\n",
      " [172.38512 -43.6585    7.8273    5.114  ]\n",
      " [172.29477 -43.5661   11.8823    5.532  ]\n",
      " [172.18575 -43.4711    6.2919    5.434  ]]\n",
      "\n",
      "Here is the last one:\n",
      "[171.75114 -43.56247   5.        2.662  ]\n",
      "\n",
      "Each entry has: 4 attributes. They are None\n"
     ]
    }
   ],
   "source": [
    "decomposeExp = eyeBallData(expTable2)\n",
    "\n",
    "print(\"The dataset quake Aftershock has \" + str(decomposeExp[0]) + \" entries.\\n\\n\" +\n",
    "      \"Here is the first Entry:\\n\" + str(decomposeExp[1]) + \"\\n\\n\" +\n",
    "      \"Here are the first 5:\\n\" + str(decomposeExp[2]) + \"\\n\\n\" +\n",
    "      \"Here is the last one:\\n\" + str(decomposeExp[3]) + \"\\n\\n\" + #last\n",
    "      \"Each entry has: \" + str(decomposeExp[4]) + ' attributes. They are ' + str(decomposeExp[5])\n",
    "     )"
   ]
  },
  {
   "cell_type": "code",
   "execution_count": 102,
   "metadata": {},
   "outputs": [],
   "source": [
    "#your class tonight is to muck about with the data\n",
    "#Task create a subTable called spatialDat with only longitude, latitude, magnitude, depth params\n",
    "\n",
    "longData = quakeRecArr['longitude']\n",
    "latData = quakeRecArr[' latitude']\n",
    "depthData = quakeRecArr[' depth']\n",
    "magData = quakeRecArr[' magnitude']\n",
    "\n",
    "expTable = np.zeros((decomposeData[0], 4))\n",
    "\n",
    "expTable[: ,0] = longData\n",
    "expTable[: ,1] = latData\n",
    "expTable[: ,2] = depthData\n",
    "expTable[: ,3] = magData \n",
    "\n",
    "#write a function that plots the spectra for you give nthe args\n",
    "def plotPos(datTable):\n",
    "    from matplotlib import pyplot as plot\n",
    "        \n",
    "    \n",
    "    figure = plot.figure()\n",
    "    ax = figure.add_subplot(111)\n",
    "    ax.plot(datTable['longitude'], datTable[' latitude'], '+', ms=0.5, c='r', label='Earthquake')\n",
    "    \n",
    "    ax.set_xlabel('$longitude$')\n",
    "    ax.set_ylabel('$latitude$')\n",
    "\n",
    "    plot.show()\n",
    "    \n",
    "    #plot points"
   ]
  },
  {
   "cell_type": "code",
   "execution_count": 103,
   "metadata": {},
   "outputs": [
    {
     "data": {
      "image/png": "[encoded data removed]",
      "text/plain": [
       "<Figure size 432x288 with 1 Axes>"
      ]
     },
     "metadata": {
      "needs_background": "light"
     },
     "output_type": "display_data"
    }
   ],
   "source": [
    "plotPos(quakeRecArr)"
   ]
  },
  {
   "cell_type": "code",
   "execution_count": 62,
   "metadata": {},
   "outputs": [
    {
     "data": {
      "text/plain": [
       "numpy.ndarray"
      ]
     },
     "execution_count": 62,
     "metadata": {},
     "output_type": "execute_result"
    }
   ],
   "source": [
    "type(expTable)"
   ]
  },
  {
   "cell_type": "code",
   "execution_count": 63,
   "metadata": {},
   "outputs": [
    {
     "name": "stdout",
     "output_type": "stream",
     "text": [
      "The dataset quake Aftershock has 3290 entries.\n",
      "\n",
      "Here is the first Entry:\n",
      "[172.16794 -43.52731  11.0426    7.2    ]\n",
      "\n",
      "Here are the first 5:\n",
      "[[172.16794 -43.52731  11.0426    7.2    ]\n",
      " [172.32367 -43.55426  10.0257    5.815  ]\n",
      " [172.38512 -43.6585    7.8273    5.114  ]\n",
      " [172.29477 -43.5661   11.8823    5.532  ]\n",
      " [172.18575 -43.4711    6.2919    5.434  ]]\n",
      "\n",
      "Here is the last one:\n",
      "[171.75114 -43.56247   5.        2.662  ]\n",
      "\n",
      "Each entry has: 4 attributes. They are None\n"
     ]
    }
   ],
   "source": [
    "decomposeExp = eyeBallData(expTable)\n",
    "\n",
    "print(\"The dataset quake Aftershock has \" + str(decomposeExp[0]) + \" entries.\\n\\n\" +\n",
    "      \"Here is the first Entry:\\n\" + str(decomposeExp[1]) + \"\\n\\n\" +\n",
    "      \"Here are the first 5:\\n\" + str(decomposeExp[2]) + \"\\n\\n\" +\n",
    "      \"Here is the last one:\\n\" + str(decomposeExp[3]) + \"\\n\\n\" + #last\n",
    "      \"Each entry has: \" + str(decomposeExp[4]) + ' attributes. They are ' + str(decomposeExp[5])\n",
    "     )"
   ]
  },
  {
   "cell_type": "code",
   "execution_count": 64,
   "metadata": {},
   "outputs": [],
   "source": [
    "#Now Do preprocessing\n",
    "\n",
    "#your taks is to write a module that breaks down the data set, tell me more, surface\n",
    "\n",
    "#missing values"
   ]
  },
  {
   "cell_type": "code",
   "execution_count": 24,
   "metadata": {},
   "outputs": [],
   "source": [
    "#Now do modelling"
   ]
  },
  {
   "cell_type": "code",
   "execution_count": null,
   "metadata": {},
   "outputs": [],
   "source": [
    "#Now do Evaluation/Validation/Tuning"
   ]
  },
  {
   "cell_type": "code",
   "execution_count": null,
   "metadata": {},
   "outputs": [],
   "source": []
  }
 ],
 "metadata": {
  "kernelspec": {
   "display_name": "Python 3",
   "language": "python",
   "name": "python3"
  },
  "language_info": {
   "codemirror_mode": {
    "name": "ipython",
    "version": 3
   },
   "file_extension": ".py",
   "mimetype": "text/x-python",
   "name": "python",
   "nbconvert_exporter": "python",
   "pygments_lexer": "ipython3",
   "version": "3.7.1"
  }
 },
 "nbformat": 4,
 "nbformat_minor": 2
}
