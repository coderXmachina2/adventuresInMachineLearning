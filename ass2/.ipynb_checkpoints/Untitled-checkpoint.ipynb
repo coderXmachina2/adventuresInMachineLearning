{
 "cells": [
  {
   "cell_type": "code",
   "execution_count": 191,
   "metadata": {},
   "outputs": [],
   "source": [
    "#Earthquake Dataset Mining\n",
    "\n",
    "import pandas as pd\n",
    "import numpy\n",
    "from sklearn.feature_selection import SelectKBest\n",
    "from sklearn.feature_selection import chi2"
   ]
  },
  {
   "cell_type": "code",
   "execution_count": 192,
   "metadata": {},
   "outputs": [],
   "source": [
    "attr  = ['publicid','eventtype',\n",
    "         'origintime','modificationtime',\n",
    "         'longitude','latitude',\n",
    "         'magnitude','depth',\n",
    "         'magnitudetype', 'depthtype',\n",
    "         'evaluationmethod','evaluationstatus',\n",
    "         'evaluationmode','earthmodel',\n",
    "         'usedphasecount','usedstationcount',\n",
    "         'magnitudestationcount', 'minimumdistance',\n",
    "         'azimuthalgap', 'originerror',\n",
    "         'magnitudeuncertainty', 'distance']\n",
    "\n",
    "# publicid eventtype\n",
    "# origintime modificationtime\n",
    "# longitude latitude\n",
    "# magnitude depth\n",
    "# magnitudetype depthtype\n",
    "# evaluationmethod evaluationstatus\n",
    "# evaluationmode earthmodel\n",
    "# usedphasecount usedstationcount\n",
    "# magnitudestationcount minimumdistance\n",
    "# azimuthalgap originerror\n",
    "# magnitudeuncertainty distance\n"
   ]
  },
  {
   "cell_type": "code",
   "execution_count": 193,
   "metadata": {},
   "outputs": [],
   "source": [
    "dFrame = pd.read_csv('aftershockDataset.csv')"
   ]
  },
  {
   "cell_type": "code",
   "execution_count": 194,
   "metadata": {},
   "outputs": [],
   "source": [
    "quakeRecArr  = dFrame.to_records(index=False)"
   ]
  },
  {
   "cell_type": "code",
   "execution_count": 195,
   "metadata": {},
   "outputs": [
    {
     "data": {
      "text/plain": [
       "numpy.recarray"
      ]
     },
     "execution_count": 195,
     "metadata": {},
     "output_type": "execute_result"
    }
   ],
   "source": [
    "type(quakeRecArr)"
   ]
  },
  {
   "cell_type": "code",
   "execution_count": 196,
   "metadata": {},
   "outputs": [
    {
     "name": "stdout",
     "output_type": "stream",
     "text": [
      "('publicid', 'eventtype', 'origintime', 'modificationtime', 'longitude', ' latitude', ' magnitude', ' depth', 'magnitudetype', ' depthtype', 'evaluationmethod', ' evaluationstatus', ' evaluationmode', ' earthmodel', ' usedphasecount', 'usedstationcount', 'magnitudestationcount', ' minimumdistance', 'azimuthalgap', 'originerror', 'magnitudeuncertainty', 'distance')\n"
     ]
    }
   ],
   "source": [
    "print(quakeRecArr.dtype.names)"
   ]
  },
  {
   "cell_type": "code",
   "execution_count": 197,
   "metadata": {},
   "outputs": [],
   "source": [
    "def eyeBallData (data):\n",
    "    N = len(data)\n",
    "    firstEntry = data[0]\n",
    "    firstV = data[:5]\n",
    "    lastInst = data[N-1]\n",
    "    Nattr = len(data[0])\n",
    "    nomDtype = data.dtype.names\n",
    "    \n",
    "    return (N, firstEntry, firstV , lastInst , Nattr, nomDtype)"
   ]
  },
  {
   "cell_type": "code",
   "execution_count": 198,
   "metadata": {},
   "outputs": [
    {
     "name": "stdout",
     "output_type": "stream",
     "text": [
      "The dataset quake Aftershock has 3290 entries.\n",
      "\n",
      "Here is the first Entry:\n",
      "(3366146, 'earthquake', '2010-09-03T16:35:41.836Z', '2013-07-16T14:04:00.000Z', 172.16794, -43.52731, 7.2, 11.0426, 'Mw', nan, 'GROPE', 'reviewed', nan, 'nz1dr', 21, 16, nan, 0.06, 82, 0.14312, nan, 0.)\n",
      "\n",
      "Here are the first 5:\n",
      "[(3366146, 'earthquake', '2010-09-03T16:35:41.836Z', '2013-07-16T14:04:00.000Z', 172.16794, -43.52731, 7.2  , 11.0426, 'Mw', nan, 'GROPE', 'reviewed', nan, 'nz1dr', 21, 16, nan, 0.06 ,  82, 0.14312,   nan,  0.        )\n",
      " (3669651, 'earthquake', '2010-09-03T16:37:02.619Z', '2013-07-16T14:51:00.000Z', 172.32367, -43.55426, 5.815, 10.0257, 'ML', nan, 'GROPE', 'reviewed', nan, 'nz1dr', 39, 23,  7., 0.058,  57, 0.18791, 0.251, 12.90512604)\n",
      " (3669661, 'earthquake', '2010-09-03T16:37:17.769Z', '2013-07-16T14:51:00.000Z', 172.38512, -43.6585 , 5.114,  7.8273, 'ML', nan, 'GROPE', 'reviewed', nan, 'nz1dr', 21, 12,  3., 0.064, 253, 0.08527, 0.186, 22.77521405)\n",
      " (3669676, 'earthquake', '2010-09-03T16:37:36.322Z', '2013-07-16T14:51:00.000Z', 172.29477, -43.5661 , 5.532, 11.8823, 'ML', nan, 'GROPE', 'reviewed', nan, 'nz1dr', 46, 26,  6., 0.069,  68, 0.24771, 0.149, 11.0946823 )\n",
      " (3672822, 'earthquake', '2010-09-03T16:38:17.243Z', '2013-07-16T14:51:00.000Z', 172.18575, -43.4711 , 5.434,  6.2919, 'ML', nan, 'GROPE', 'reviewed', nan, 'nz1dr', 20, 14,  7., 0.064,  88, 0.38259, 0.19 ,  6.41322644)]\n",
      "\n",
      "Here is the last one:\n",
      "(3380928, 'earthquake', '2010-09-30T20:04:58.487Z', '2013-07-16T14:47:00.000Z', 171.75114, -43.56247, 2.662, 5., 'ML', 'operator assigned', 'GROPE', 'reviewed', nan, 'nz1dr', 8, 5, 7., 0.314, 150, 0.2507, 0.254, 33.81992864)\n",
      "\n",
      "Each entry has: 22 attributes. They are ('publicid', 'eventtype', 'origintime', 'modificationtime', 'longitude', ' latitude', ' magnitude', ' depth', 'magnitudetype', ' depthtype', 'evaluationmethod', ' evaluationstatus', ' evaluationmode', ' earthmodel', ' usedphasecount', 'usedstationcount', 'magnitudestationcount', ' minimumdistance', 'azimuthalgap', 'originerror', 'magnitudeuncertainty', 'distance')\n"
     ]
    }
   ],
   "source": [
    "decomposeData = eyeBallData(quakeRecArr)\n",
    "\n",
    "print(\"The dataset quake Aftershock has \" + str(decomposeData[0]) + \" entries.\\n\\n\" +\n",
    "      \"Here is the first Entry:\\n\" + str(decomposeData[1]) + \"\\n\\n\" +\n",
    "      \"Here are the first 5:\\n\" + str(decomposeData[2]) + \"\\n\\n\" +\n",
    "      \"Here is the last one:\\n\" + str(decomposeData[3]) + \"\\n\\n\" + #last\n",
    "      \"Each entry has: \" + str(decomposeData[4]) + ' attributes. They are ' + str(decomposeData[5])\n",
    "     )"
   ]
  },
  {
   "cell_type": "code",
   "execution_count": null,
   "metadata": {},
   "outputs": [],
   "source": []
  },
  {
   "cell_type": "code",
   "execution_count": null,
   "metadata": {},
   "outputs": [],
   "source": []
  },
  {
   "cell_type": "code",
   "execution_count": null,
   "metadata": {},
   "outputs": [],
   "source": []
  },
  {
   "cell_type": "code",
   "execution_count": null,
   "metadata": {},
   "outputs": [],
   "source": []
  }
 ],
 "metadata": {
  "kernelspec": {
   "display_name": "Python 3",
   "language": "python",
   "name": "python3"
  },
  "language_info": {
   "codemirror_mode": {
    "name": "ipython",
    "version": 3
   },
   "file_extension": ".py",
   "mimetype": "text/x-python",
   "name": "python",
   "nbconvert_exporter": "python",
   "pygments_lexer": "ipython3",
   "version": "3.7.1"
  }
 },
 "nbformat": 4,
 "nbformat_minor": 2
}
