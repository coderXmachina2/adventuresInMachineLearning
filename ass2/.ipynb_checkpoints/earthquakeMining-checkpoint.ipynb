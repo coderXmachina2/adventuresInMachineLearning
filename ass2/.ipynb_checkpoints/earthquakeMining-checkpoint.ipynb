{
 "cells": [
  {
   "cell_type": "code",
   "execution_count": 55,
   "metadata": {},
   "outputs": [],
   "source": [
    "#Earthquake Dataset Mining\n",
    "\n",
    "import pandas as pd\n",
    "import numpy as np\n",
    "from sklearn.feature_selection import SelectKBest\n",
    "from sklearn.feature_selection import chi2"
   ]
  },
  {
   "cell_type": "code",
   "execution_count": 56,
   "metadata": {},
   "outputs": [],
   "source": [
    "attr  = ['publicid','eventtype',\n",
    "         'origintime','modificationtime',\n",
    "         'longitude','latitude',\n",
    "         'magnitude','depth',\n",
    "         'magnitudetype', 'depthtype',\n",
    "         'evaluationmethod','evaluationstatus',\n",
    "         'evaluationmode','earthmodel',\n",
    "         'usedphasecount','usedstationcount',\n",
    "         'magnitudestationcount', 'minimumdistance',\n",
    "         'azimuthalgap', 'originerror',\n",
    "         'magnitudeuncertainty', 'distance']\n",
    "\n",
    "# publicid eventtype\n",
    "# origintime modificationtime\n",
    "# longitude latitude\n",
    "# magnitude depth\n",
    "# magnitudetype depthtype\n",
    "# evaluationmethod evaluationstatus\n",
    "# evaluationmode earthmodel\n",
    "# usedphasecount usedstationcount\n",
    "# magnitudestationcount minimumdistance\n",
    "# azimuthalgap originerror\n",
    "# magnitudeuncertainty distance\n"
   ]
  },
  {
   "cell_type": "code",
   "execution_count": 57,
   "metadata": {},
   "outputs": [],
   "source": [
    "dFrame = pd.read_csv('aftershockDataset.csv')"
   ]
  },
  {
   "cell_type": "code",
   "execution_count": 58,
   "metadata": {},
   "outputs": [],
   "source": [
    "quakeRecArr  = dFrame.to_records(index=False)"
   ]
  },
  {
   "cell_type": "code",
   "execution_count": 59,
   "metadata": {},
   "outputs": [
    {
     "data": {
      "text/plain": [
       "numpy.recarray"
      ]
     },
     "execution_count": 59,
     "metadata": {},
     "output_type": "execute_result"
    }
   ],
   "source": [
    "type(quakeRecArr)"
   ]
  },
  {
   "cell_type": "code",
   "execution_count": 60,
   "metadata": {},
   "outputs": [
    {
     "name": "stdout",
     "output_type": "stream",
     "text": [
      "('publicid', 'eventtype', 'origintime', 'modificationtime', 'longitude', ' latitude', ' magnitude', ' depth', 'magnitudetype', ' depthtype', 'evaluationmethod', ' evaluationstatus', ' evaluationmode', ' earthmodel', ' usedphasecount', 'usedstationcount', 'magnitudestationcount', ' minimumdistance', 'azimuthalgap', 'originerror', 'magnitudeuncertainty', 'distance')\n"
     ]
    }
   ],
   "source": [
    "print(quakeRecArr.dtype.names)"
   ]
  },
  {
   "cell_type": "code",
   "execution_count": 8,
   "metadata": {},
   "outputs": [],
   "source": [
    "def eyeBallData (data):\n",
    "    N = len(data)\n",
    "    firstEntry = data[0]\n",
    "    firstV = data[:5]\n",
    "    lastInst = data[N-1]\n",
    "    Nattr = len(data[0])\n",
    "    nomDtype = data.dtype.names\n",
    "    \n",
    "    return (N, firstEntry, firstV , lastInst , Nattr, nomDtype)"
   ]
  },
  {
   "cell_type": "code",
   "execution_count": 9,
   "metadata": {},
   "outputs": [
    {
     "name": "stdout",
     "output_type": "stream",
     "text": [
      "The dataset quake Aftershock has 3290 entries.\n",
      "\n",
      "Here is the first Entry:\n",
      "(3366146, 'earthquake', '2010-09-03T16:35:41.836Z', '2013-07-16T14:04:00.000Z', 172.16794, -43.52731, 7.2, 11.0426, 'Mw', nan, 'GROPE', 'reviewed', nan, 'nz1dr', 21, 16, nan, 0.06, 82, 0.14312, nan, 0.)\n",
      "\n",
      "Here are the first 5:\n",
      "[(3366146, 'earthquake', '2010-09-03T16:35:41.836Z', '2013-07-16T14:04:00.000Z', 172.16794, -43.52731, 7.2  , 11.0426, 'Mw', nan, 'GROPE', 'reviewed', nan, 'nz1dr', 21, 16, nan, 0.06 ,  82, 0.14312,   nan,  0.        )\n",
      " (3669651, 'earthquake', '2010-09-03T16:37:02.619Z', '2013-07-16T14:51:00.000Z', 172.32367, -43.55426, 5.815, 10.0257, 'ML', nan, 'GROPE', 'reviewed', nan, 'nz1dr', 39, 23,  7., 0.058,  57, 0.18791, 0.251, 12.90512604)\n",
      " (3669661, 'earthquake', '2010-09-03T16:37:17.769Z', '2013-07-16T14:51:00.000Z', 172.38512, -43.6585 , 5.114,  7.8273, 'ML', nan, 'GROPE', 'reviewed', nan, 'nz1dr', 21, 12,  3., 0.064, 253, 0.08527, 0.186, 22.77521405)\n",
      " (3669676, 'earthquake', '2010-09-03T16:37:36.322Z', '2013-07-16T14:51:00.000Z', 172.29477, -43.5661 , 5.532, 11.8823, 'ML', nan, 'GROPE', 'reviewed', nan, 'nz1dr', 46, 26,  6., 0.069,  68, 0.24771, 0.149, 11.0946823 )\n",
      " (3672822, 'earthquake', '2010-09-03T16:38:17.243Z', '2013-07-16T14:51:00.000Z', 172.18575, -43.4711 , 5.434,  6.2919, 'ML', nan, 'GROPE', 'reviewed', nan, 'nz1dr', 20, 14,  7., 0.064,  88, 0.38259, 0.19 ,  6.41322644)]\n",
      "\n",
      "Here is the last one:\n",
      "(3380928, 'earthquake', '2010-09-30T20:04:58.487Z', '2013-07-16T14:47:00.000Z', 171.75114, -43.56247, 2.662, 5., 'ML', 'operator assigned', 'GROPE', 'reviewed', nan, 'nz1dr', 8, 5, 7., 0.314, 150, 0.2507, 0.254, 33.81992864)\n",
      "\n",
      "Each entry has: 22 attributes. They are ('publicid', 'eventtype', 'origintime', 'modificationtime', 'longitude', ' latitude', ' magnitude', ' depth', 'magnitudetype', ' depthtype', 'evaluationmethod', ' evaluationstatus', ' evaluationmode', ' earthmodel', ' usedphasecount', 'usedstationcount', 'magnitudestationcount', ' minimumdistance', 'azimuthalgap', 'originerror', 'magnitudeuncertainty', 'distance')\n"
     ]
    }
   ],
   "source": [
    "decomposeData = eyeBallData(quakeRecArr)\n",
    "\n",
    "print(\"The dataset quake Aftershock has \" + str(decomposeData[0]) + \" entries.\\n\\n\" +\n",
    "      \"Here is the first Entry:\\n\" + str(decomposeData[1]) + \"\\n\\n\" +\n",
    "      \"Here are the first 5:\\n\" + str(decomposeData[2]) + \"\\n\\n\" +\n",
    "      \"Here is the last one:\\n\" + str(decomposeData[3]) + \"\\n\\n\" + #last\n",
    "      \"Each entry has: \" + str(decomposeData[4]) + ' attributes. They are ' + str(decomposeData[5])\n",
    "     )"
   ]
  },
  {
   "cell_type": "code",
   "execution_count": null,
   "metadata": {},
   "outputs": [],
   "source": [
    "\n",
    "#longData = quakeRecArr['longitude']\n",
    "#latData = quakeRecArr[' latitude']\n",
    "#depthData = quakeRecArr[' depth']\n",
    "#magData = quakeRecArr[' magnitude']\n",
    "\n",
    "#x = np.array([],dtype=[('longitude', 'c16'), ('latitude', 'f'), ('depth', 'f'), ('magnitude', 'f')])\n",
    "\n",
    "#x[: ,0] = longData\n",
    "#x[: ,1] = latData\n",
    "#x[: ,2] = depthData\n",
    "#x[: ,3] = magData "
   ]
  },
  {
   "cell_type": "code",
   "execution_count": 12,
   "metadata": {},
   "outputs": [],
   "source": [
    "#decomposeExp = eyeBallData(expTable2)\n",
    "\n",
    "#print(\"The dataset quake Aftershock has \" + str(decomposeExp[0]) + \" entries.\\n\\n\" +\n",
    "#      \"Here is the first Entry:\\n\" + str(decomposeExp[1]) + \"\\n\\n\" +\n",
    "#      \"Here are the first 5:\\n\" + str(decomposeExp[2]) + \"\\n\\n\" +\n",
    "#      \"Here is the last one:\\n\" + str(decomposeExp[3]) + \"\\n\\n\" + #last\n",
    "#      \"Each entry has: \" + str(decomposeExp[4]) + ' attributes. They are ' + str(decomposeExp[5])\n",
    "#     )"
   ]
  },
  {
   "cell_type": "code",
   "execution_count": 105,
   "metadata": {},
   "outputs": [],
   "source": [
    "#your class tonight is to muck about with the data\n",
    "#Task create a subTable called spatialDat with only longitude, latitude, magnitude, depth params\n",
    "from matplotlib import pyplot as plot\n",
    "longData = quakeRecArr['longitude']\n",
    "latData = quakeRecArr[' latitude']\n",
    "depthData = quakeRecArr[' depth']\n",
    "magData = quakeRecArr[' magnitude']\n",
    "\n",
    "expTable = np.zeros((decomposeData[0], 4))\n",
    "\n",
    "expTable[: ,0] = longData\n",
    "expTable[: ,1] = latData\n",
    "expTable[: ,2] = depthData\n",
    "expTable[: ,3] = magData \n",
    "\n",
    "#write a function that plots the spectra for you give nthe args\n",
    "def plotPos(datTable):    \n",
    "    figure = plot.figure()\n",
    "    ax = figure.add_subplot(111)\n",
    "    ax.plot(datTable['longitude'], datTable[' latitude'], '+', ms=0.5, c='purple', label='Longitude and Latitude')\n",
    "    \n",
    "    ax.set_xlabel('$longitude$')\n",
    "    ax.set_ylabel('$latitude$')\n",
    "\n",
    "    plot.show()\n",
    "    \n",
    "    #plot points\n",
    "    \n",
    "def plotMagDepth(datTable):\n",
    "        \n",
    "    figure = plot.figure()\n",
    "    ax = figure.add_subplot(111)\n",
    "    ax.plot(datTable[' depth'], datTable[' magnitude'], '+', ms=0.5, c='red', label='Depth and Magnitude')\n",
    "    \n",
    "    ax.set_xlabel('$magnitude$')\n",
    "    ax.set_ylabel('$depth$')\n",
    "\n",
    "    plot.show()\n",
    "    \n",
    "    #plot points\n",
    "    \n",
    "def plotPosIntensift(datTable):\n",
    "    #if \n",
    "    print(\"WOK\")\n",
    "    \n",
    "def plotKMeanScatter(kMeanTable):\n",
    "    from sklearn.cluster import KMeans  \n",
    "    fig = plot.figure()\n",
    "    ax = fig.add_subplot(111)\n",
    "\n",
    "    ax.scatter(longLatTab[:,0], longLatTab[:,1],c=kmeans.labels_, cmap='rainbow', alpha =0.5,  edgecolor='k')\n",
    "\n",
    "    ax.set_xlabel('$longitude$')\n",
    "    ax.set_ylabel('$latitude$')\n",
    "\n",
    "    plot.show()"
   ]
  },
  {
   "cell_type": "code",
   "execution_count": 66,
   "metadata": {},
   "outputs": [
    {
     "data": {
      "image/png": "[encoded data removed]",
      "text/plain": [
       "<Figure size 432x288 with 1 Axes>"
      ]
     },
     "metadata": {
      "needs_background": "light"
     },
     "output_type": "display_data"
    }
   ],
   "source": [
    "plotPos(quakeRecArr)"
   ]
  },
  {
   "cell_type": "code",
   "execution_count": 67,
   "metadata": {},
   "outputs": [
    {
     "data": {
      "image/png": "[encoded data removed]",
      "text/plain": [
       "<Figure size 432x288 with 1 Axes>"
      ]
     },
     "metadata": {
      "needs_background": "light"
     },
     "output_type": "display_data"
    }
   ],
   "source": [
    "plotMagDepth(quakeRecArr)"
   ]
  },
  {
   "cell_type": "code",
   "execution_count": 68,
   "metadata": {},
   "outputs": [
    {
     "data": {
      "text/plain": [
       "numpy.ndarray"
      ]
     },
     "execution_count": 68,
     "metadata": {},
     "output_type": "execute_result"
    }
   ],
   "source": [
    "type(expTable)"
   ]
  },
  {
   "cell_type": "code",
   "execution_count": 69,
   "metadata": {},
   "outputs": [
    {
     "name": "stdout",
     "output_type": "stream",
     "text": [
      "The sub-dataset quake Aftershock has 3290 entries.\n",
      "\n",
      "Here is the first Entry:\n",
      "[172.16794 -43.52731  11.0426    7.2    ]\n",
      "\n",
      "Here are the first 5:\n",
      "[[172.16794 -43.52731  11.0426    7.2    ]\n",
      " [172.32367 -43.55426  10.0257    5.815  ]\n",
      " [172.38512 -43.6585    7.8273    5.114  ]\n",
      " [172.29477 -43.5661   11.8823    5.532  ]\n",
      " [172.18575 -43.4711    6.2919    5.434  ]]\n",
      "\n",
      "Here is the last one:\n",
      "[171.75114 -43.56247   5.        2.662  ]\n",
      "\n",
      "Each entry has: 4 attributes. They are None\n"
     ]
    }
   ],
   "source": [
    "decomposeExp = eyeBallData(expTable)\n",
    "\n",
    "print(\"The sub-dataset quake Aftershock has \" + str(decomposeExp[0]) + \" entries.\\n\\n\" +\n",
    "      \"Here is the first Entry:\\n\" + str(decomposeExp[1]) + \"\\n\\n\" +\n",
    "      \"Here are the first 5:\\n\" + str(decomposeExp[2]) + \"\\n\\n\" +\n",
    "      \"Here is the last one:\\n\" + str(decomposeExp[3]) + \"\\n\\n\" + #last\n",
    "      \"Each entry has: \" + str(decomposeExp[4]) + ' attributes. They are ' + str(decomposeExp[5])\n",
    "     )"
   ]
  },
  {
   "cell_type": "code",
   "execution_count": 70,
   "metadata": {},
   "outputs": [],
   "source": [
    "#Now Do preprocessing\n",
    "\n",
    "#your taks is to write a module that breaks down the data set, tell me more, surface\n",
    "\n",
    "#missing values\n",
    "#0 values\n",
    "#repetitive value"
   ]
  },
  {
   "cell_type": "code",
   "execution_count": 74,
   "metadata": {},
   "outputs": [
    {
     "name": "stdout",
     "output_type": "stream",
     "text": [
      "The sub-dataset quake Aftershock has 3290 entries.\n",
      "\n",
      "Here is the first Entry:\n",
      "[172.16794 -43.52731]\n",
      "\n",
      "Here are the first 5:\n",
      "[[172.16794 -43.52731]\n",
      " [172.32367 -43.55426]\n",
      " [172.38512 -43.6585 ]\n",
      " [172.29477 -43.5661 ]\n",
      " [172.18575 -43.4711 ]]\n",
      "\n",
      "Here is the last one:\n",
      "[171.75114 -43.56247]\n",
      "\n",
      "Each entry has: 2 attributes. They are None\n"
     ]
    }
   ],
   "source": [
    "longLatTab = np.zeros((decomposeData[0], 2))\n",
    "\n",
    "longLatTab[: ,0] = quakeRecArr['longitude']\n",
    "longLatTab[: ,1] = quakeRecArr[' latitude']\n",
    "\n",
    "decomposeSubTable = eyeBallData(longLatTab)\n",
    "\n",
    "print(\"The sub-dataset quake Aftershock has \" + str(decomposeSubTable[0]) + \" entries.\\n\\n\" +\n",
    "      \"Here is the first Entry:\\n\" + str(decomposeSubTable[1]) + \"\\n\\n\" +\n",
    "      \"Here are the first 5:\\n\" + str(decomposeSubTable[2]) + \"\\n\\n\" +\n",
    "      \"Here is the last one:\\n\" + str(decomposeSubTable[3]) + \"\\n\\n\" + #last\n",
    "      \"Each entry has: \" + str(decomposeSubTable[4]) + ' attributes. They are ' + str(decomposeSubTable[5])\n",
    "     )"
   ]
  },
  {
   "cell_type": "code",
   "execution_count": null,
   "metadata": {},
   "outputs": [],
   "source": []
  },
  {
   "cell_type": "code",
   "execution_count": 110,
   "metadata": {},
   "outputs": [
    {
     "name": "stdout",
     "output_type": "stream",
     "text": [
      "[[172.16789114 -43.55356672]\n",
      " [172.37853342 -43.5996577 ]\n",
      " [171.89810312 -43.54036585]\n",
      " [172.64296481 -43.57655425]]\n"
     ]
    }
   ],
   "source": [
    "#try k means\n",
    "from sklearn.cluster import KMeans  \n",
    "\n",
    "kmeans = KMeans(n_clusters=4) #data Science\n",
    "\n",
    "#create a an array of just \n",
    "\n",
    "kmeans.fit(longLatTab)\n",
    "\n",
    "print(kmeans.cluster_centers_)  "
   ]
  },
  {
   "cell_type": "code",
   "execution_count": 111,
   "metadata": {},
   "outputs": [
    {
     "name": "stdout",
     "output_type": "stream",
     "text": [
      "[0 1 1 ... 2 1 2]\n"
     ]
    }
   ],
   "source": [
    "print(kmeans.labels_)"
   ]
  },
  {
   "cell_type": "code",
   "execution_count": 112,
   "metadata": {},
   "outputs": [
    {
     "data": {
      "image/png": "[encoded data removed]",
      "text/plain": [
       "<Figure size 432x288 with 1 Axes>"
      ]
     },
     "metadata": {
      "needs_background": "light"
     },
     "output_type": "display_data"
    }
   ],
   "source": [
    "#Now do modelling\n",
    "plotKMeanScatter(longLatTab)"
   ]
  },
  {
   "cell_type": "code",
   "execution_count": null,
   "metadata": {},
   "outputs": [],
   "source": [
    "#Now do Evaluation/Validation/Tuning"
   ]
  },
  {
   "cell_type": "code",
   "execution_count": null,
   "metadata": {},
   "outputs": [],
   "source": []
  }
 ],
 "metadata": {
  "kernelspec": {
   "display_name": "Python 3",
   "language": "python",
   "name": "python3"
  },
  "language_info": {
   "codemirror_mode": {
    "name": "ipython",
    "version": 3
   },
   "file_extension": ".py",
   "mimetype": "text/x-python",
   "name": "python",
   "nbconvert_exporter": "python",
   "pygments_lexer": "ipython3",
   "version": "3.7.1"
  }
 },
 "nbformat": 4,
 "nbformat_minor": 2
}
