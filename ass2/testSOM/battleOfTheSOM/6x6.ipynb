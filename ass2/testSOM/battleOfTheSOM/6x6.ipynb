{
 "cells": [
  {
   "cell_type": "code",
   "execution_count": 94,
   "metadata": {},
   "outputs": [],
   "source": [
    "#Self Organizing Maps\n",
    "\n",
    "import matplotlib.pylab as plt\n",
    "import pandas as pd\n",
    "import numpy as np\n",
    "import sys\n",
    "import sompy\n",
    "from time import time\n",
    "from sompy.visualization.bmuhits import BmuHitsView\n",
    "\n",
    "np.set_printoptions(threshold=sys.maxsize) #see all elements, dont truncate"
   ]
  },
  {
   "cell_type": "code",
   "execution_count": 95,
   "metadata": {},
   "outputs": [],
   "source": [
    "dFrame = pd.read_csv('somDatasetLLM.csv')\n",
    "quakeLLMRecArr  = dFrame.to_records(index=False)\n",
    "quakeLLM = np.array(quakeLLMRecArr.tolist())"
   ]
  },
  {
   "cell_type": "code",
   "execution_count": 96,
   "metadata": {},
   "outputs": [
    {
     "name": "stderr",
     "output_type": "stream",
     "text": [
      " Training...\n",
      "--------------------------------------------------------------\n",
      " details: \n",
      "      > data len is 3290 and data dimension is 3\n",
      "      > map size is 6,6\n",
      "      > array size in log10 scale is 5.550619653436924\n",
      "      > number of jobs in parallel: 1\n",
      " -------------------------------------------------------------\n",
      "\n",
      " pca_linear_initialization took: 0.003000 seconds\n",
      " Rough training...\n",
      " radius_ini: 1.000000 , radius_final: 1.000000, trainlen: 1\n",
      "\n",
      " find_bmu took: 0.104000 seconds\n",
      " update_codebook_voronoi took: 0.000000 seconds\n",
      " epoch: 1 ---> elapsed time:  0.106000, quantization error: 0.794073\n",
      "\n",
      " Finetune training...\n",
      " radius_ini: 1.000000 , radius_final: 1.000000, trainlen: 1\n",
      "\n",
      " find_bmu took: 0.107000 seconds\n",
      " update_codebook_voronoi took: 0.003000 seconds\n",
      " epoch: 1 ---> elapsed time:  0.114000, quantization error: 0.746467\n",
      "\n",
      " --------------------------------------------------------------\n",
      " Final quantization error: 0.746467\n",
      " train took: 0.253000 seconds\n"
     ]
    }
   ],
   "source": [
    "#train SOM\n",
    "\n",
    "mapsize = [6,6] #define map size\n",
    "sixSixSom = som.SOMFactory.build(quakeLLM, \n",
    "                                 mapsize, \n",
    "                                 mask=None, \n",
    "                                 mapshape='planar', \n",
    "                                 lattice='rect', \n",
    "                                 normalization='var', \n",
    "                                 initialization='pca', \n",
    "                                 neighborhood='gaussian', \n",
    "                                 training='batch', \n",
    "                                 name='sompy') \n",
    "\n",
    "# this will use the default parameters, but I can change the initialization and neighborhood methods\n",
    "\n",
    "sixSixSom.train(n_job=1, \n",
    "                shared_memory = 'no', \n",
    "                verbose='debug')  # verbose='debug' will print more,\n",
    "                            # verbose=None wont print anything"
   ]
  },
  {
   "cell_type": "code",
   "execution_count": 97,
   "metadata": {},
   "outputs": [
    {
     "data": {
      "text/plain": [
       "<sompy.visualization.mapview.View2DPacked at 0x1a33f21b4a8>"
      ]
     },
     "execution_count": 97,
     "metadata": {},
     "output_type": "execute_result"
    }
   ],
   "source": [
    "v = sompy.mapview.View2DPacked(6, 6, 'Visualization',text_size=12) \n",
    "v"
   ]
  },
  {
   "cell_type": "code",
   "execution_count": 111,
   "metadata": {},
   "outputs": [
    {
     "name": "stderr",
     "output_type": "stream",
     "text": [
      "update_title_pos\n",
      "update_title_pos\n",
      "update_title_pos\n",
      "update_title_pos\n",
      "update_title_pos\n",
      "update_title_pos\n",
      "update_title_pos\n",
      "update_title_pos\n",
      "update_title_pos\n",
      "update_title_pos\n",
      "update_title_pos\n",
      "update_title_pos\n",
      "update_title_pos\n",
      "update_title_pos\n",
      "update_title_pos\n",
      "update_title_pos\n"
     ]
    },
    {
     "data": {
      "image/png": "[encoded data removed]",
      "text/plain": [
       "<Figure size 1188x297 with 4 Axes>"
      ]
     },
     "metadata": {},
     "output_type": "display_data"
    }
   ],
   "source": [
    "sixSixSom.component_names = ['Longitude','Latitude','Magnitude']\n",
    "v.show(sixSixSom, what='codebook', which_dim='all', cmap=None, col_sz=6) #which_dim='all' default\n"
   ]
  },
  {
   "cell_type": "code",
   "execution_count": 110,
   "metadata": {},
   "outputs": [
    {
     "name": "stderr",
     "output_type": "stream",
     "text": [
      "update_title_pos\n",
      "update_title_pos\n",
      "update_title_pos\n",
      "update_title_pos\n",
      "update_title_pos\n",
      "update_title_pos\n",
      "update_title_pos\n",
      "update_title_pos\n",
      "update_title_pos\n",
      "update_title_pos\n",
      "update_title_pos\n",
      "update_title_pos\n",
      "update_title_pos\n",
      "update_title_pos\n",
      "update_title_pos\n",
      "update_title_pos\n"
     ]
    },
    {
     "data": {
      "image/png": "[encoded data removed]",
      "text/plain": [
       "<Figure size 792x346.5 with 4 Axes>"
      ]
     },
     "metadata": {},
     "output_type": "display_data"
    }
   ],
   "source": [
    "#jet colour\n",
    "sixSixSom.component_names = ['Longitude','Latitude','Magnitude']\n",
    "v.show(sixSixSom, what='codebook', which_dim='all', cmap='rainbow', col_sz=4) #which_dim='all' default"
   ]
  },
  {
   "cell_type": "code",
   "execution_count": 100,
   "metadata": {},
   "outputs": [
    {
     "data": {
      "text/plain": [
       "array([3, 3, 0, 0, 1, 1, 3, 3, 0, 0, 1, 1, 3, 3, 0, 0, 1, 1, 3, 3, 0, 0,\n",
       "       1, 1, 2, 2, 2, 0, 1, 1, 2, 2, 2, 0, 1, 1])"
      ]
     },
     "execution_count": 100,
     "metadata": {},
     "output_type": "execute_result"
    }
   ],
   "source": [
    "vis2 = sompy.mapview.View2DPacked(2, 2, 'test',text_size=8)  \n",
    "#first you can do clustering. Currently only K-means on top of the trained som\n",
    "cl = sixSixSom.cluster(n_clusters=4) #this is cluster labels\n",
    "# print cl\n",
    "getattr(sixSixSom, 'cluster_labels')"
   ]
  },
  {
   "cell_type": "code",
   "execution_count": 101,
   "metadata": {},
   "outputs": [
    {
     "name": "stderr",
     "output_type": "stream",
     "text": [
      "C:\\Users\\afiqAUT\\Anaconda3\\lib\\site-packages\\matplotlib\\figure.py:98: MatplotlibDeprecationWarning: \n",
      "Adding an axes using the same arguments as a previous axes currently reuses the earlier instance.  In a future version, a new instance will always be created and returned.  Meanwhile, this warning can be suppressed, and the future behavior ensured, by passing a unique label to each axes instance.\n",
      "  \"Adding an axes using the same arguments as a previous axes \"\n",
      "update_title_pos\n",
      "update_title_pos\n",
      "update_title_pos\n",
      "update_title_pos\n"
     ]
    },
    {
     "data": {
      "image/png": "[encoded data removed]",
      "text/plain": [
       "<Figure size 216x216 with 1 Axes>"
      ]
     },
     "metadata": {},
     "output_type": "display_data"
    }
   ],
   "source": [
    "vis2.show(sixSixSom, what='cluster')"
   ]
  },
  {
   "cell_type": "code",
   "execution_count": 102,
   "metadata": {},
   "outputs": [
    {
     "name": "stderr",
     "output_type": "stream",
     "text": [
      "update_title_pos\n",
      "update_title_pos\n",
      "update_title_pos\n",
      "update_title_pos\n",
      "update_title_pos\n"
     ]
    },
    {
     "data": {
      "image/png": "[encoded data removed]",
      "text/plain": [
       "<Figure size 720x720 with 1 Axes>"
      ]
     },
     "metadata": {},
     "output_type": "display_data"
    }
   ],
   "source": [
    "h = sompy.hitmap.HitMapView(10, 10, 'hitmap', text_size=10, show_text=True)\n",
    "h.show(sixSixSom)"
   ]
  },
  {
   "cell_type": "code",
   "execution_count": 103,
   "metadata": {},
   "outputs": [
    {
     "data": {
      "text/plain": [
       "array([29, 23, 11, 23, 35, 29, 23, 23,  5,  5, 23, 11, 23, 23, 17, 23, 23,\n",
       "        5, 35, 17, 35, 23, 29, 17, 23,  5, 23, 11, 29, 17, 17, 23, 17, 23,\n",
       "       17, 23, 23, 11, 23, 11,  5, 35, 23, 17, 17, 29,  5, 35, 11, 35,  5,\n",
       "       16,  5,  5, 17, 23, 23, 29, 29, 23, 16, 29, 35, 17, 29,  5,  5, 16,\n",
       "       23, 17, 29, 29, 35, 11, 35, 29, 17, 23, 35, 17, 29, 29, 23, 17, 35,\n",
       "       17, 23, 23, 22, 35, 10, 23, 29, 35, 35, 34, 17, 11,  5, 16, 11, 11,\n",
       "       22, 29, 23, 29, 29, 22, 33, 34, 23, 35, 35,  5,  5,  5, 10, 34, 21,\n",
       "       10, 22, 35, 29,  4, 34, 10, 16, 10, 28, 20, 28, 15, 11, 28,  4, 15,\n",
       "       29, 35, 23, 20,  5, 17, 15, 22, 10, 21, 18, 34, 29, 15, 21, 18, 19,\n",
       "       26, 16, 30, 30,  9, 11,  4, 30,  4, 10, 33,  4, 27, 21, 11, 22, 16,\n",
       "       22, 11, 29, 23, 23, 17, 35, 21,  5, 35, 34, 23, 23,  4, 22, 21,  2,\n",
       "       20, 32, 29,  5, 21, 34, 16, 25,  8, 15, 34, 13, 30, 22, 22, 24, 17,\n",
       "       15, 10, 28, 16,  9,  4,  3, 21, 17, 15, 28, 15, 26, 21, 14, 21, 14,\n",
       "        9, 27, 29,  0, 24, 30, 21, 21, 17, 11, 29, 34, 27, 22, 15,  1, 30,\n",
       "       29, 16,  8, 14, 32, 20,  8, 30,  6, 28, 35, 23, 26, 19, 25,  5, 34,\n",
       "       17, 17,  3, 21, 23, 16, 15, 34, 15, 33, 16,  8,  3, 15,  9, 19, 15,\n",
       "       34, 14, 26, 15, 13,  8, 32, 24, 18, 14,  5,  5, 22,  3, 28, 33, 10,\n",
       "        8, 22, 32, 13, 27, 12,  7, 14, 23,  1, 18, 21, 33, 27, 13, 23, 35,\n",
       "       34, 16, 10,  9, 17,  4, 24, 19, 16, 15, 17, 10, 23, 28, 15, 30,  4,\n",
       "        9, 18,  6, 21,  1, 34,  9, 18, 34, 32,  9, 26, 22, 34, 15, 16, 21,\n",
       "       11, 33,  7, 13, 30, 12, 17, 29,  9, 15, 12,  6, 29, 10, 23,  5, 15,\n",
       "       14, 16, 19, 12, 17, 31, 20, 17,  4,  1, 28, 30, 27, 24, 14, 17, 19,\n",
       "       22,  3,  9, 22, 13, 15, 27, 22,  3, 23, 35,  5, 34, 18, 33, 33, 14,\n",
       "        3, 15, 14, 22,  2,  9, 11,  5, 21, 23, 20, 20, 22, 30, 19,  7, 27,\n",
       "       23, 14, 30, 11, 15, 32, 18, 34,  8, 10,  3, 14, 15, 20,  8, 21, 20,\n",
       "       21, 12, 19, 29,  3, 18, 26, 17, 16, 21,  2, 16, 18, 30,  2, 14,  7,\n",
       "       17, 10,  5, 16, 21,  4, 18, 14,  8, 32, 14, 21, 17, 17,  4, 21, 17,\n",
       "       15, 11, 24, 27, 11, 34, 29, 23, 29, 29, 29, 34, 17, 23, 28, 20, 35,\n",
       "       33, 30,  6, 12, 32, 25, 30, 13, 32, 28, 25, 26, 21,  8,  3, 13, 12,\n",
       "       16, 22, 13,  6, 13, 15, 13, 13, 18, 29, 17, 26, 34, 15, 25, 13, 19,\n",
       "       18, 18, 22, 29,  4,  1, 22, 22, 15,  8, 18, 10, 15,  5, 23, 22,  9,\n",
       "       22, 22, 16, 23, 20, 18,  7, 32, 30, 11, 26, 13,  6, 16, 17,  2, 19,\n",
       "        8, 10, 31, 28,  3, 30, 12,  8, 14, 35,  5, 22, 16, 14, 26,  7, 29,\n",
       "       26, 34, 28,  5, 32,  0, 26, 19,  7,  0,  9, 33, 27, 18,  8,  5, 30,\n",
       "        4, 33,  1, 26, 21, 10, 30, 15, 27, 14, 17,  0, 16, 28, 17, 16, 17,\n",
       "       15, 13, 14, 19, 17, 35,  3,  3, 15, 15, 21, 31,  3, 21, 22,  3, 19,\n",
       "       21, 14, 26, 16, 21, 15, 22, 30, 30, 30, 26, 34, 30, 13, 30, 24, 30,\n",
       "        4, 13, 22,  9, 33, 15, 19, 18, 28, 17, 32,  2, 19, 19, 14, 13, 18,\n",
       "       18, 10, 30, 25, 19,  7, 13,  4, 13,  2, 20,  3, 26, 24, 13,  2, 10,\n",
       "       18,  8,  8, 23, 27, 13,  8, 25, 11, 28, 32, 10, 12,  6,  7, 28, 24,\n",
       "       30,  9, 17,  8, 32, 18,  1, 19, 13, 31, 14,  4, 15, 19, 18, 15, 29,\n",
       "       17,  9, 11, 23,  8, 29, 29,  9,  3,  3, 16, 29, 17, 32, 12, 19, 30,\n",
       "       11,  2, 14,  8, 20, 32, 30,  0, 15, 23, 22, 19,  3, 18, 13, 15, 19,\n",
       "       14,  0, 17, 13,  8, 24, 28,  1, 22, 24, 16,  2, 13, 30, 14,  4, 15,\n",
       "        6, 16, 12, 19, 12,  0, 25, 33, 35, 15, 25, 30, 19, 20,  3, 33,  4,\n",
       "        4, 15, 21, 21, 28, 14, 13, 30, 21, 23, 23, 15,  5,  7,  3, 26, 22,\n",
       "       26, 16, 17, 15, 11, 23, 13, 17, 15, 17, 28, 17, 17,  7, 14, 30,  8,\n",
       "       16,  9, 10, 28, 26,  8,  7, 13, 15, 12, 28, 14,  1, 13, 10,  3,  1,\n",
       "        7, 15, 35, 32, 20,  9,  1, 32, 32, 33,  3, 18,  8, 21, 32, 15, 32,\n",
       "       23, 29, 29, 34, 30, 22, 15, 30, 14, 26, 18, 19,  3,  9, 28,  4, 22,\n",
       "       13, 32, 30, 30, 14, 19, 17,  6, 13,  2, 30, 30,  7, 30,  2, 15,  8,\n",
       "       30, 11, 35, 35, 35, 35, 33, 17, 19, 33, 13, 14,  7, 23,  8, 21,  4,\n",
       "        9, 14, 15, 17, 14, 28, 14, 18, 13, 24, 17, 29,  0,  6, 14, 18, 28,\n",
       "        0, 13,  3, 30,  1, 13, 17, 14, 33,  1, 12,  9, 24, 32, 33, 18,  1,\n",
       "       28,  1, 14, 21, 28, 16, 35, 22, 21, 20, 21, 32, 33,  3, 18, 19,  7,\n",
       "       22, 30, 17,  3, 23, 15, 13, 30, 14, 27, 15,  8, 24, 30,  6, 22,  1,\n",
       "       21, 33, 14, 29,  2, 24,  3, 19, 34, 13, 18,  5,  7,  3,  2, 14,  7,\n",
       "        9,  0,  0, 30, 21, 26, 19,  7, 21,  9, 26,  5, 16,  9, 27, 29, 15,\n",
       "       17, 28, 16, 13, 30, 12, 22, 21, 32, 30, 15,  8,  8,  8, 30, 14, 30,\n",
       "        2, 30, 33, 30, 24, 32, 23, 23,  4, 23, 13, 10, 19,  8, 23,  4, 16,\n",
       "       16,  2, 19, 30,  7, 18, 29,  9,  7, 30, 32, 18, 15, 23, 33, 18, 21,\n",
       "        5, 30, 30, 33, 30, 29,  7, 26, 27, 17, 30, 26, 29, 20,  7, 14,  5,\n",
       "       29, 28, 10,  7, 30, 30, 10,  3, 11,  3,  8, 24, 30,  9, 32, 30, 14,\n",
       "       30, 21,  3,  6, 11, 23, 24,  4, 30, 32,  5, 15, 30, 26, 11, 15, 32,\n",
       "       35, 16, 35, 12,  6, 32,  2, 30, 34, 33,  4,  3, 18, 30, 32, 12, 21,\n",
       "        0, 12, 18, 15, 13,  3, 14, 16, 30, 25, 15, 14, 30, 22,  2, 32, 17,\n",
       "        9, 25, 20, 29, 17, 30, 24,  5,  3,  8, 30, 20, 11, 10, 12,  0,  1,\n",
       "       13, 30,  0, 23, 29, 30, 34,  6, 30, 32, 32, 26, 13, 16, 21, 18,  3,\n",
       "        5, 14, 30, 21, 32,  1,  2, 24, 10,  6,  1, 20, 20, 26,  9,  9,  7,\n",
       "       21,  6,  1, 14, 14, 10,  5,  4, 24, 32, 30,  7,  7,  3, 30, 27, 22,\n",
       "       33, 30,  8, 21,  4, 34,  7, 24, 18, 25, 32,  4, 13, 12, 14, 13, 33,\n",
       "       30, 17, 19, 13, 34, 12, 24, 30, 12, 10,  8, 18,  2, 30,  8,  2, 30,\n",
       "       14,  3,  3,  0, 23, 20,  8, 10, 35,  1,  8, 19, 25,  4, 18, 24, 21,\n",
       "       24, 11,  8,  0,  9,  7,  6,  6, 19, 14,  2, 22, 27, 30, 30, 24, 11,\n",
       "       31,  0, 30,  8, 13,  6, 16, 14, 15, 30, 15, 30,  6, 17, 18,  6,  6,\n",
       "       32,  5, 12, 18, 13, 25, 12,  8,  0,  2, 35, 18, 20,  7,  6,  6,  6,\n",
       "       24, 24,  0,  6, 19, 30,  6,  8,  6, 32, 13, 13, 30, 18,  1,  6,  0,\n",
       "       14,  2, 12, 12,  9, 23, 13, 12, 33, 15, 26, 34,  6, 12,  7, 18, 30,\n",
       "        7, 21, 29, 17, 23, 35, 33, 15,  6, 16, 30, 32, 21, 30, 30, 30,  6,\n",
       "        7,  7, 21, 12, 30, 18, 14, 11, 14, 30, 11, 18, 23, 32, 34, 30,  3,\n",
       "        4, 23, 14,  0, 30, 25, 30, 32, 21,  9, 15,  1,  6, 18,  0, 21, 18,\n",
       "        8,  7,  1, 14,  2,  5, 15, 32, 20,  2, 12, 18, 15,  0, 27,  1, 25,\n",
       "       18,  9,  2, 30, 19, 30, 33, 28, 18,  2, 30,  2, 22, 21, 30, 11, 24,\n",
       "       11, 33,  0, 30, 24, 32, 19, 21, 21, 33, 18, 21,  9, 30, 30, 31, 32,\n",
       "       17, 14,  2, 32, 10, 30,  3, 10, 21, 34,  3,  3,  3, 10,  8, 17, 24,\n",
       "        6,  1, 23, 26,  6, 19, 15, 30, 12,  7, 12, 12, 16, 20, 22, 30, 15,\n",
       "       12, 15,  5, 11, 21, 26,  0, 13, 30, 18,  9, 21,  5, 16, 21, 11, 17,\n",
       "       27, 15,  0, 32, 35,  2, 20, 34, 17, 33, 33, 32,  3, 30,  5, 13, 16,\n",
       "       33,  1, 30, 21,  9, 12, 12, 21, 28, 24,  6,  4, 12, 33, 15, 17, 14,\n",
       "        3,  5, 17, 15,  3,  8, 30,  9, 33, 26,  1,  7, 35, 21, 16, 21, 29,\n",
       "       29, 16,  8,  7,  9, 14, 24,  8,  9, 15, 15, 35, 12,  9, 27, 16, 28,\n",
       "       32,  6, 30, 15, 11,  3, 22, 21,  0, 15, 30, 15, 26,  5,  7, 30, 30,\n",
       "       30,  4,  9, 26,  5,  3, 17, 17,  3, 17, 29, 11,  5, 15, 16, 30, 21,\n",
       "       35, 14, 14,  8, 30,  4, 21,  5, 15, 17,  7,  8,  8, 14, 30,  7, 30,\n",
       "       10, 28, 15,  3, 13, 14, 30, 15, 28, 15,  2, 35, 23, 14,  2, 30, 30,\n",
       "       15,  5, 14, 18, 18, 30, 20, 12, 29, 33,  8, 14,  7,  6, 30, 16, 30,\n",
       "       14, 33, 30,  7,  9, 12, 13, 30,  6,  2, 12, 28,  5,  2,  4,  7, 12,\n",
       "        2, 24, 30, 14, 21, 19, 32,  0, 31, 32, 33, 30, 14, 14, 21, 13, 30,\n",
       "       20, 35,  2,  1, 18,  3, 20,  3, 16,  6,  0,  7,  0,  8,  6, 18,  3,\n",
       "       11,  8, 11,  6, 14, 24,  0, 25,  6,  7, 21, 18, 30,  6, 24, 16,  8,\n",
       "       18, 34, 32, 25, 20,  2,  0,  6, 32, 30, 15, 30, 18, 18, 35, 30,  2,\n",
       "       12, 18, 32, 30, 18,  6,  6, 30, 16, 23,  7, 33, 34, 13, 14, 34,  1,\n",
       "        6,  0, 23, 32, 17, 10,  1, 30, 30, 30, 14, 28,  6,  6, 32,  6, 18,\n",
       "        5, 30, 12, 24,  3, 25,  6, 18, 32, 30, 17,  0, 12,  7, 14, 12, 32,\n",
       "       12, 24, 10,  9, 14, 24, 16, 13, 30,  1, 17, 13, 12, 35, 12, 30, 24,\n",
       "       13, 30, 20, 12, 24,  2,  0, 19, 17, 30, 17, 30, 31, 25,  0,  4, 16,\n",
       "       30, 11,  5,  3, 10,  2, 18,  5, 32, 30, 24, 17, 24, 18, 16,  5, 18,\n",
       "       16,  6,  7, 18,  2, 24,  3,  2, 18,  2,  6,  2,  7, 30,  9, 32,  3,\n",
       "       14, 29,  2, 13,  2, 18, 11, 24,  3, 27,  6,  0,  3,  3,  6, 25,  0,\n",
       "        4, 15, 32,  2,  7, 12, 18,  3,  7,  3,  5, 18,  3, 32, 13,  4, 14,\n",
       "        3,  1, 30, 18, 13,  3, 32, 14, 18, 32, 32,  5, 18,  0,  3, 14, 32,\n",
       "       19, 26,  2, 24, 12, 30, 13,  7, 32, 30, 27, 32,  7, 21, 25, 30, 18,\n",
       "       30, 14,  8, 24, 23, 32,  5, 24, 32, 17, 13, 14,  9, 18,  2,  6, 25,\n",
       "        6,  3,  0, 17, 29,  6, 29,  2,  1,  6, 13,  3, 13, 30,  0, 18,  7,\n",
       "       14, 30, 13, 13, 22, 18, 35, 30,  1,  2, 32, 30,  3,  4, 30,  2, 30,\n",
       "       34, 32, 30, 15, 30, 19,  0, 35, 23, 21, 35, 12,  3, 30, 32, 32, 13,\n",
       "        2, 32, 32, 24,  0,  7, 21,  6,  2, 26, 20, 19, 30,  8, 11, 32, 14,\n",
       "       22, 15, 14,  9,  5,  6, 22,  8,  4,  7, 18,  4,  3, 30, 29,  9, 18,\n",
       "       20,  5, 11, 30, 32,  9, 13,  8,  8,  7, 32, 22, 11,  3,  3, 26, 12,\n",
       "       24, 33,  7, 32, 18, 32, 34,  7, 22, 15, 32, 30, 21,  9, 35, 28, 17,\n",
       "        2,  2, 32, 32, 32, 30,  3, 13, 15,  2, 30, 30, 33,  8,  6, 13, 30,\n",
       "        4,  5,  8, 30,  0,  1,  3,  2,  8,  1, 18, 33, 33, 30, 12, 30, 30,\n",
       "       18,  2,  3, 10, 19, 12, 23, 18, 18, 20, 12, 20, 30, 33,  0,  0,  3,\n",
       "       27,  3, 24, 18, 14, 11,  4,  1, 13, 11,  3,  7, 12, 30, 30,  6,  0,\n",
       "       30, 30, 32, 15,  0,  1, 30,  0, 30,  9, 30, 30,  9,  6, 22,  0, 24,\n",
       "       24, 18, 25,  1,  8,  6, 23, 20, 25, 12, 13,  0,  2, 10, 18, 30, 18,\n",
       "       12, 34,  1,  8, 34, 12,  7,  0, 13, 32, 24,  0,  5,  0,  7,  8,  3,\n",
       "       17, 16, 15, 24,  5,  0, 35,  4, 12, 32, 20, 24, 30, 12, 10,  9, 12,\n",
       "        0, 12, 19,  6, 18, 12,  8, 32,  0, 32, 20, 16, 17, 25, 12, 30, 10,\n",
       "       19, 21, 24, 30,  7,  8,  3, 30, 12,  6, 18,  7, 30, 13,  0, 18, 18,\n",
       "        5,  9, 30,  2, 12, 17,  3, 32, 18, 19, 30,  5,  2,  6,  0, 11,  1,\n",
       "       14, 18, 30, 15, 18, 13,  2,  3,  8, 14, 35,  1, 30,  1, 13,  1,  5,\n",
       "        6, 25, 15,  2, 16,  2,  3, 26, 33,  3, 17, 30, 14, 11, 32, 14, 10,\n",
       "        2, 11, 28, 32, 35,  3,  0,  5,  8, 14, 20, 30,  5, 14, 10,  2, 30,\n",
       "       29, 18, 23, 23, 21, 13, 32, 22,  8,  7,  0,  7,  5, 26,  3, 30, 12,\n",
       "        0, 11,  8,  8,  1,  7, 30, 30,  6, 14, 32,  6, 32,  3, 32, 13,  6,\n",
       "       18, 12,  8, 18, 21, 32, 18, 27, 30,  6,  6, 20,  6,  6, 24, 14, 10,\n",
       "       23, 20, 30,  0,  7,  1,  6, 33, 12, 12, 24, 16,  3, 12,  3,  1, 18,\n",
       "        7, 12, 10, 31, 13, 32,  6,  6,  0,  6, 30, 30, 32,  8, 11, 27, 11,\n",
       "       32, 17,  7, 17, 13,  2,  6,  1, 17,  4, 34, 26, 34,  3,  1, 12, 17,\n",
       "       28, 15, 10, 15, 33, 20,  0, 30, 24, 18,  2, 30, 32, 12, 32, 15, 30,\n",
       "        1, 11, 15,  3,  5, 10, 18, 32, 32,  7, 30, 17, 30, 16,  4, 13,  0,\n",
       "       18,  5, 18,  4, 21,  0,  6,  6, 26, 33, 16, 15, 32, 32,  0,  0,  6,\n",
       "        0, 25,  1, 11, 21,  0,  0, 13, 12,  0, 28, 20, 28, 24, 32, 34,  7,\n",
       "       13, 18,  6, 14,  0, 29,  6,  6, 30,  0, 18,  6, 18,  1, 14, 12, 31,\n",
       "       12,  5,  0,  1, 16,  6,  0, 12, 21,  0, 30, 15, 30,  1, 30,  5,  2,\n",
       "        0,  6,  5,  9,  9,  1,  7, 10,  6, 32,  5,  2, 10, 30,  0, 32, 20,\n",
       "        9, 30, 14,  0, 14,  2, 17, 34, 34, 19, 25, 24,  2, 20, 19, 30,  6,\n",
       "       16, 30, 15, 26, 30, 18, 27,  2, 17, 15, 21,  6, 29,  6, 11, 30, 30,\n",
       "       33, 18, 30, 11, 35, 11, 26, 32,  5,  5, 18,  0,  4,  3,  3,  1,  0,\n",
       "       30, 35,  4,  6, 32,  4, 13,  7, 24, 19,  0,  3,  0, 15, 26,  2,  0,\n",
       "       32, 10, 30,  2, 19, 10, 10,  8,  8,  7, 35, 12, 33, 14,  5,  4, 23,\n",
       "        0,  7, 30,  7,  8, 32,  7, 32,  6, 16, 32, 13, 32, 11, 32, 13,  9,\n",
       "        6,  3,  0, 26, 26,  0, 13,  7, 30, 31, 24, 15, 32,  1, 18,  1,  3,\n",
       "       11, 10, 20, 15, 10, 30,  7, 15, 14, 14,  1,  9, 19, 21,  0, 20,  6,\n",
       "       32, 33, 35, 12, 32,  7, 19,  2,  8,  1,  8, 27,  0, 32, 18, 24,  7,\n",
       "       25, 30, 10, 15, 19, 32,  7,  8, 30,  2,  1,  8, 10, 12, 11, 21, 32,\n",
       "       24, 11, 23,  1,  0,  4,  8, 30, 14, 25, 15, 15,  9,  0, 32, 32, 12,\n",
       "       22,  2, 12, 30,  0, 24,  2, 30, 30, 30, 16,  1,  2,  2,  6, 20,  0,\n",
       "       32,  8, 28, 12, 15, 30, 26,  9, 14,  0,  9, 12, 32,  2,  8, 12, 30,\n",
       "        6,  0, 27, 30,  6, 12,  0,  6, 32, 30,  7,  1, 32,  6,  0, 25,  2,\n",
       "       14,  6,  0,  6, 22, 18,  7,  3, 33,  0,  0, 33, 32,  7,  7,  1,  1,\n",
       "       12, 24, 33,  0, 32, 18,  6,  6,  0, 18,  8,  2, 13,  1, 18, 12, 21,\n",
       "       30,  2,  8, 18,  7, 13, 17,  7,  6, 30, 32, 12,  3,  6, 30, 32,  7,\n",
       "        6,  0, 30,  6, 32, 32,  1, 12,  1, 26, 32,  7, 15, 13,  6, 18, 18,\n",
       "       32,  7,  2, 30, 35, 32, 34, 32, 12, 30, 32,  5,  9, 26, 12,  0,  1,\n",
       "        0,  1, 30, 12, 32, 12, 12, 12,  2,  6, 15, 19,  1, 12,  0, 30,  2,\n",
       "       18, 32, 21,  3, 30, 32,  3,  0, 24,  0,  8, 30,  0, 24,  0, 30,  6,\n",
       "       18, 11,  2, 15,  7,  0,  5,  0, 24, 34, 30, 14, 20, 16, 14, 26,  8,\n",
       "       15,  8, 19,  0, 24, 10,  3,  5,  0,  1, 25, 24,  7,  7, 27, 10, 30,\n",
       "        7, 18, 26, 30,  7, 30,  0,  6, 31, 30,  6,  0,  0, 32,  7, 30,  6,\n",
       "       30, 12,  0,  3, 18, 33, 21, 30, 19,  8,  7, 34, 12,  8,  1,  7, 24,\n",
       "       18, 32, 30, 11,  6,  3,  2,  2, 11, 24, 24, 16, 24,  6, 32, 32, 26,\n",
       "       18, 32,  5, 32,  1, 33,  7,  1,  9,  9,  9, 26, 32,  0, 30, 12, 32,\n",
       "        7,  9, 25, 33,  8, 15, 24,  3, 15,  0, 26, 14, 11, 30,  1, 12,  0,\n",
       "       10, 16, 30,  4, 13,  6,  3,  4,  7, 18, 31, 30, 32,  2, 10,  6, 30,\n",
       "       30, 24,  9, 30, 32, 15, 18, 11, 30, 33, 30, 24, 32, 20, 12, 10, 32,\n",
       "       30, 18, 13,  6,  6, 12,  9,  2,  7, 18, 26,  6, 30, 25,  1, 10, 11,\n",
       "       10,  6,  9, 24, 15,  3, 32, 30,  6, 30, 12, 33, 33,  4, 30, 18, 32,\n",
       "        1, 30, 15, 14, 10,  2,  8,  6,  7, 10,  1,  1,  8, 13, 32, 20,  1,\n",
       "        8, 12, 11, 30, 32, 10, 32, 18, 24,  6,  6,  6,  1, 21, 18, 29,  8,\n",
       "       10, 12, 28, 18, 27, 19,  0,  3,  1,  0,  5,  1,  5,  5,  4,  2,  6,\n",
       "        2,  6, 12, 30,  0, 24,  2,  5,  3,  4, 32, 30,  7, 13, 12,  0, 30,\n",
       "       27,  2, 30,  6, 14,  5, 22,  3,  3,  2,  7, 12, 15,  4,  4, 14, 13,\n",
       "        2, 13, 26,  7, 14, 28, 20,  3, 30, 14,  3, 19,  8, 18, 32, 32, 13,\n",
       "        2, 13, 24,  7, 32, 34,  3,  4,  0, 30, 24, 12, 12, 32,  8,  7, 32,\n",
       "        3, 32, 10,  7, 24,  0, 22, 12, 30, 18,  9, 19,  3,  7, 30,  6, 15,\n",
       "       15, 17, 29, 32, 18, 32, 16, 18,  8, 16,  7,  6,  9, 10, 18, 28,  7,\n",
       "       30, 18,  0,  2,  8,  7,  9, 10, 12,  2,  6, 13,  6, 12, 15, 35,  0,\n",
       "       32,  0, 14, 19,  6, 30,  4,  1,  6, 11,  0, 32,  7, 18, 32, 30,  6,\n",
       "       12, 24, 16,  0, 18,  4, 32, 28, 32, 30, 10,  6,  3, 30, 20, 32, 30,\n",
       "       22, 28, 18,  7,  1, 24, 30, 12, 25, 32, 32,  1,  6, 21, 21, 17,  1,\n",
       "       27,  3,  7, 30,  6, 24, 13, 14, 15, 12, 29,  8,  7,  3, 12,  6, 15,\n",
       "       30, 33, 28,  7, 30, 30, 30,  5, 30])"
      ]
     },
     "execution_count": 103,
     "metadata": {},
     "output_type": "execute_result"
    }
   ],
   "source": [
    "sixSixSom.project_data(quakeLLM) # we can project each data point to a neuron"
   ]
  },
  {
   "cell_type": "code",
   "execution_count": 104,
   "metadata": {},
   "outputs": [
    {
     "data": {
      "text/plain": [
       "array([[ 7.242100e-01, -5.780770e-01, -8.617260e-01],\n",
       "       [ 8.132060e-01, -5.326790e-01, -6.352900e-01],\n",
       "       [ 9.456360e-01, -5.464540e-01, -2.832570e-01],\n",
       "       [ 1.035011e+00, -5.755460e-01,  1.272790e-01],\n",
       "       [ 1.039114e+00, -5.388900e-01,  6.841770e-01],\n",
       "       [ 1.019706e+00, -5.032890e-01,  1.241985e+00],\n",
       "       [ 5.011700e-01, -3.659910e-01, -8.683730e-01],\n",
       "       [ 5.707870e-01, -3.226730e-01, -6.365480e-01],\n",
       "       [ 6.643270e-01, -3.143350e-01, -2.814000e-01],\n",
       "       [ 7.240220e-01, -3.259990e-01,  1.411690e-01],\n",
       "       [ 7.343420e-01, -3.125390e-01,  7.115320e-01],\n",
       "       [ 7.286230e-01, -3.073630e-01,  1.278081e+00],\n",
       "       [ 1.599320e-01, -2.277000e-01, -8.527760e-01],\n",
       "       [ 2.355130e-01, -1.661740e-01, -6.225330e-01],\n",
       "       [ 3.063100e-01, -1.291410e-01, -2.588380e-01],\n",
       "       [ 3.263960e-01, -1.311860e-01,  1.766830e-01],\n",
       "       [ 3.180660e-01, -1.440170e-01,  7.583670e-01],\n",
       "       [ 3.054160e-01, -1.637610e-01,  1.338859e+00],\n",
       "       [-3.155220e-01, -1.272110e-01, -8.074080e-01],\n",
       "       [-1.900810e-01,  8.700000e-05, -6.033880e-01],\n",
       "       [-1.079560e-01,  9.107500e-02, -2.396470e-01],\n",
       "       [-1.246130e-01,  7.127800e-02,  2.151400e-01],\n",
       "       [-1.698280e-01,  2.502600e-02,  8.259740e-01],\n",
       "       [-2.004110e-01, -4.316000e-03,  1.429794e+00],\n",
       "       [-9.655920e-01,  6.481100e-02, -7.302770e-01],\n",
       "       [-7.306860e-01,  3.591400e-01, -5.911840e-01],\n",
       "       [-5.738390e-01,  6.332300e-01, -2.594400e-01],\n",
       "       [-6.141740e-01,  5.878780e-01,  2.106970e-01],\n",
       "       [-6.747640e-01,  4.880690e-01,  8.470320e-01],\n",
       "       [-6.933980e-01,  4.746840e-01,  1.455454e+00],\n",
       "       [-1.431541e+00,  2.138280e-01, -6.712610e-01],\n",
       "       [-1.129231e+00,  6.806300e-01, -5.843190e-01],\n",
       "       [-8.742120e-01,  1.185847e+00, -2.956630e-01],\n",
       "       [-9.088140e-01,  1.148435e+00,  1.678990e-01],\n",
       "       [-9.658080e-01,  1.029873e+00,  8.066410e-01],\n",
       "       [-9.602030e-01,  1.072310e+00,  1.403439e+00]])"
      ]
     },
     "execution_count": 104,
     "metadata": {},
     "output_type": "execute_result"
    }
   ],
   "source": [
    "sixSixSom.codebook.matrix"
   ]
  },
  {
   "cell_type": "code",
   "execution_count": 105,
   "metadata": {},
   "outputs": [
    {
     "data": {
      "text/plain": [
       "36"
      ]
     },
     "execution_count": 105,
     "metadata": {},
     "output_type": "execute_result"
    }
   ],
   "source": [
    "len(sixSixSom.codebook.matrix) #this is the map itself"
   ]
  },
  {
   "cell_type": "code",
   "execution_count": 108,
   "metadata": {},
   "outputs": [
    {
     "name": "stderr",
     "output_type": "stream",
     "text": [
      "update_title_pos\n",
      "update_title_pos\n",
      "update_title_pos\n",
      "update_title_pos\n",
      "update_title_pos\n"
     ]
    },
    {
     "data": {
      "image/png": "[encoded data removed]",
      "text/plain": [
       "<Figure size 540x540 with 1 Axes>"
      ]
     },
     "metadata": {
      "needs_background": "light"
     },
     "output_type": "display_data"
    }
   ],
   "source": [
    "u = sompy.umatrix.UMatrixView(12, \n",
    "                              12, \n",
    "                              'umatrix', \n",
    "                              show_axis=True, \n",
    "                              text_size=8, \n",
    "                              show_text=True) #prep the plot\n",
    "\n",
    "#This is the Umat value\n",
    "UMAT  = u.build_u_matrix(sixSixSom, \n",
    "                         distance=1,  \n",
    "                         row_normalized=False) #build the plot\n",
    "\n",
    "#Here you have Umatrix plus its render\n",
    "UMAT = u.show(sixSixSom, \n",
    "              distance2=1, \n",
    "              row_normalized=False,\n",
    "              show_data=True, \n",
    "              contooor=True, \n",
    "              blob=True)"
   ]
  },
  {
   "cell_type": "code",
   "execution_count": 119,
   "metadata": {},
   "outputs": [
    {
     "name": "stderr",
     "output_type": "stream",
     "text": [
      "update_title_pos\n",
      "update_title_pos\n",
      "update_title_pos\n",
      "update_title_pos\n"
     ]
    },
    {
     "data": {
      "image/png": "[encoded data removed]",
      "text/plain": [
       "<Figure size 432x288 with 1 Axes>"
      ]
     },
     "metadata": {
      "needs_background": "light"
     },
     "output_type": "display_data"
    }
   ],
   "source": [
    "greyMat = UMAT[1]\n",
    "plt.imshow(greyMat, cmap=\"gray\")\n",
    "plt.suptitle('Umatrix of 6x6 SOM', fontsize=24)\n",
    "plt.show()"
   ]
  },
  {
   "cell_type": "code",
   "execution_count": null,
   "metadata": {},
   "outputs": [],
   "source": [
    "#1 cluster"
   ]
  },
  {
   "cell_type": "code",
   "execution_count": 113,
   "metadata": {},
   "outputs": [
    {
     "data": {
      "text/plain": [
       "array([0, 0, 0, 0, 0, 0, 0, 0, 0, 0, 0, 0, 0, 0, 0, 0, 0, 0, 0, 0, 0, 0,\n",
       "       0, 0, 0, 0, 0, 0, 0, 0, 0, 0, 0, 0, 0, 0])"
      ]
     },
     "execution_count": 113,
     "metadata": {},
     "output_type": "execute_result"
    }
   ],
   "source": [
    "vis2 = sompy.mapview.View2DPacked(2, 2, 'test',text_size=8)  \n",
    "#first you can do clustering. Currently only K-means on top of the trained som\n",
    "cl = sixSixSom.cluster(n_clusters=1) #this is cluster labels\n",
    "# print cl\n",
    "getattr(sixSixSom, 'cluster_labels')"
   ]
  },
  {
   "cell_type": "code",
   "execution_count": 116,
   "metadata": {},
   "outputs": [],
   "source": [
    "map_labels = sixSixSom.cluster(n_clusters=1)\n",
    "data_labels = np.array([map_labels[int(k)] for k in sixSixSom._bmu[0]]) # mapping labels from grid to original data\n"
   ]
  },
  {
   "cell_type": "code",
   "execution_count": 117,
   "metadata": {},
   "outputs": [
    {
     "data": {
      "text/plain": [
       "array([0, 0, 0, 0, 0, 0, 0, 0, 0, 0, 0, 0, 0, 0, 0, 0, 0, 0, 0, 0, 0, 0,\n",
       "       0, 0, 0, 0, 0, 0, 0, 0, 0, 0, 0, 0, 0, 0])"
      ]
     },
     "execution_count": 117,
     "metadata": {},
     "output_type": "execute_result"
    }
   ],
   "source": [
    "map_labels"
   ]
  },
  {
   "cell_type": "code",
   "execution_count": 118,
   "metadata": {},
   "outputs": [
    {
     "data": {
      "text/plain": [
       "array([0, 0, 0, 0, 0, 0, 0, 0, 0, 0, 0, 0, 0, 0, 0, 0, 0, 0, 0, 0, 0, 0,\n",
       "       0, 0, 0, 0, 0, 0, 0, 0, 0, 0, 0, 0, 0, 0, 0, 0, 0, 0, 0, 0, 0, 0,\n",
       "       0, 0, 0, 0, 0, 0, 0, 0, 0, 0, 0, 0, 0, 0, 0, 0, 0, 0, 0, 0, 0, 0,\n",
       "       0, 0, 0, 0, 0, 0, 0, 0, 0, 0, 0, 0, 0, 0, 0, 0, 0, 0, 0, 0, 0, 0,\n",
       "       0, 0, 0, 0, 0, 0, 0, 0, 0, 0, 0, 0, 0, 0, 0, 0, 0, 0, 0, 0, 0, 0,\n",
       "       0, 0, 0, 0, 0, 0, 0, 0, 0, 0, 0, 0, 0, 0, 0, 0, 0, 0, 0, 0, 0, 0,\n",
       "       0, 0, 0, 0, 0, 0, 0, 0, 0, 0, 0, 0, 0, 0, 0, 0, 0, 0, 0, 0, 0, 0,\n",
       "       0, 0, 0, 0, 0, 0, 0, 0, 0, 0, 0, 0, 0, 0, 0, 0, 0, 0, 0, 0, 0, 0,\n",
       "       0, 0, 0, 0, 0, 0, 0, 0, 0, 0, 0, 0, 0, 0, 0, 0, 0, 0, 0, 0, 0, 0,\n",
       "       0, 0, 0, 0, 0, 0, 0, 0, 0, 0, 0, 0, 0, 0, 0, 0, 0, 0, 0, 0, 0, 0,\n",
       "       0, 0, 0, 0, 0, 0, 0, 0, 0, 0, 0, 0, 0, 0, 0, 0, 0, 0, 0, 0, 0, 0,\n",
       "       0, 0, 0, 0, 0, 0, 0, 0, 0, 0, 0, 0, 0, 0, 0, 0, 0, 0, 0, 0, 0, 0,\n",
       "       0, 0, 0, 0, 0, 0, 0, 0, 0, 0, 0, 0, 0, 0, 0, 0, 0, 0, 0, 0, 0, 0,\n",
       "       0, 0, 0, 0, 0, 0, 0, 0, 0, 0, 0, 0, 0, 0, 0, 0, 0, 0, 0, 0, 0, 0,\n",
       "       0, 0, 0, 0, 0, 0, 0, 0, 0, 0, 0, 0, 0, 0, 0, 0, 0, 0, 0, 0, 0, 0,\n",
       "       0, 0, 0, 0, 0, 0, 0, 0, 0, 0, 0, 0, 0, 0, 0, 0, 0, 0, 0, 0, 0, 0,\n",
       "       0, 0, 0, 0, 0, 0, 0, 0, 0, 0, 0, 0, 0, 0, 0, 0, 0, 0, 0, 0, 0, 0,\n",
       "       0, 0, 0, 0, 0, 0, 0, 0, 0, 0, 0, 0, 0, 0, 0, 0, 0, 0, 0, 0, 0, 0,\n",
       "       0, 0, 0, 0, 0, 0, 0, 0, 0, 0, 0, 0, 0, 0, 0, 0, 0, 0, 0, 0, 0, 0,\n",
       "       0, 0, 0, 0, 0, 0, 0, 0, 0, 0, 0, 0, 0, 0, 0, 0, 0, 0, 0, 0, 0, 0,\n",
       "       0, 0, 0, 0, 0, 0, 0, 0, 0, 0, 0, 0, 0, 0, 0, 0, 0, 0, 0, 0, 0, 0,\n",
       "       0, 0, 0, 0, 0, 0, 0, 0, 0, 0, 0, 0, 0, 0, 0, 0, 0, 0, 0, 0, 0, 0,\n",
       "       0, 0, 0, 0, 0, 0, 0, 0, 0, 0, 0, 0, 0, 0, 0, 0, 0, 0, 0, 0, 0, 0,\n",
       "       0, 0, 0, 0, 0, 0, 0, 0, 0, 0, 0, 0, 0, 0, 0, 0, 0, 0, 0, 0, 0, 0,\n",
       "       0, 0, 0, 0, 0, 0, 0, 0, 0, 0, 0, 0, 0, 0, 0, 0, 0, 0, 0, 0, 0, 0,\n",
       "       0, 0, 0, 0, 0, 0, 0, 0, 0, 0, 0, 0, 0, 0, 0, 0, 0, 0, 0, 0, 0, 0,\n",
       "       0, 0, 0, 0, 0, 0, 0, 0, 0, 0, 0, 0, 0, 0, 0, 0, 0, 0, 0, 0, 0, 0,\n",
       "       0, 0, 0, 0, 0, 0, 0, 0, 0, 0, 0, 0, 0, 0, 0, 0, 0, 0, 0, 0, 0, 0,\n",
       "       0, 0, 0, 0, 0, 0, 0, 0, 0, 0, 0, 0, 0, 0, 0, 0, 0, 0, 0, 0, 0, 0,\n",
       "       0, 0, 0, 0, 0, 0, 0, 0, 0, 0, 0, 0, 0, 0, 0, 0, 0, 0, 0, 0, 0, 0,\n",
       "       0, 0, 0, 0, 0, 0, 0, 0, 0, 0, 0, 0, 0, 0, 0, 0, 0, 0, 0, 0, 0, 0,\n",
       "       0, 0, 0, 0, 0, 0, 0, 0, 0, 0, 0, 0, 0, 0, 0, 0, 0, 0, 0, 0, 0, 0,\n",
       "       0, 0, 0, 0, 0, 0, 0, 0, 0, 0, 0, 0, 0, 0, 0, 0, 0, 0, 0, 0, 0, 0,\n",
       "       0, 0, 0, 0, 0, 0, 0, 0, 0, 0, 0, 0, 0, 0, 0, 0, 0, 0, 0, 0, 0, 0,\n",
       "       0, 0, 0, 0, 0, 0, 0, 0, 0, 0, 0, 0, 0, 0, 0, 0, 0, 0, 0, 0, 0, 0,\n",
       "       0, 0, 0, 0, 0, 0, 0, 0, 0, 0, 0, 0, 0, 0, 0, 0, 0, 0, 0, 0, 0, 0,\n",
       "       0, 0, 0, 0, 0, 0, 0, 0, 0, 0, 0, 0, 0, 0, 0, 0, 0, 0, 0, 0, 0, 0,\n",
       "       0, 0, 0, 0, 0, 0, 0, 0, 0, 0, 0, 0, 0, 0, 0, 0, 0, 0, 0, 0, 0, 0,\n",
       "       0, 0, 0, 0, 0, 0, 0, 0, 0, 0, 0, 0, 0, 0, 0, 0, 0, 0, 0, 0, 0, 0,\n",
       "       0, 0, 0, 0, 0, 0, 0, 0, 0, 0, 0, 0, 0, 0, 0, 0, 0, 0, 0, 0, 0, 0,\n",
       "       0, 0, 0, 0, 0, 0, 0, 0, 0, 0, 0, 0, 0, 0, 0, 0, 0, 0, 0, 0, 0, 0,\n",
       "       0, 0, 0, 0, 0, 0, 0, 0, 0, 0, 0, 0, 0, 0, 0, 0, 0, 0, 0, 0, 0, 0,\n",
       "       0, 0, 0, 0, 0, 0, 0, 0, 0, 0, 0, 0, 0, 0, 0, 0, 0, 0, 0, 0, 0, 0,\n",
       "       0, 0, 0, 0, 0, 0, 0, 0, 0, 0, 0, 0, 0, 0, 0, 0, 0, 0, 0, 0, 0, 0,\n",
       "       0, 0, 0, 0, 0, 0, 0, 0, 0, 0, 0, 0, 0, 0, 0, 0, 0, 0, 0, 0, 0, 0,\n",
       "       0, 0, 0, 0, 0, 0, 0, 0, 0, 0, 0, 0, 0, 0, 0, 0, 0, 0, 0, 0, 0, 0,\n",
       "       0, 0, 0, 0, 0, 0, 0, 0, 0, 0, 0, 0, 0, 0, 0, 0, 0, 0, 0, 0, 0, 0,\n",
       "       0, 0, 0, 0, 0, 0, 0, 0, 0, 0, 0, 0, 0, 0, 0, 0, 0, 0, 0, 0, 0, 0,\n",
       "       0, 0, 0, 0, 0, 0, 0, 0, 0, 0, 0, 0, 0, 0, 0, 0, 0, 0, 0, 0, 0, 0,\n",
       "       0, 0, 0, 0, 0, 0, 0, 0, 0, 0, 0, 0, 0, 0, 0, 0, 0, 0, 0, 0, 0, 0,\n",
       "       0, 0, 0, 0, 0, 0, 0, 0, 0, 0, 0, 0, 0, 0, 0, 0, 0, 0, 0, 0, 0, 0,\n",
       "       0, 0, 0, 0, 0, 0, 0, 0, 0, 0, 0, 0, 0, 0, 0, 0, 0, 0, 0, 0, 0, 0,\n",
       "       0, 0, 0, 0, 0, 0, 0, 0, 0, 0, 0, 0, 0, 0, 0, 0, 0, 0, 0, 0, 0, 0,\n",
       "       0, 0, 0, 0, 0, 0, 0, 0, 0, 0, 0, 0, 0, 0, 0, 0, 0, 0, 0, 0, 0, 0,\n",
       "       0, 0, 0, 0, 0, 0, 0, 0, 0, 0, 0, 0, 0, 0, 0, 0, 0, 0, 0, 0, 0, 0,\n",
       "       0, 0, 0, 0, 0, 0, 0, 0, 0, 0, 0, 0, 0, 0, 0, 0, 0, 0, 0, 0, 0, 0,\n",
       "       0, 0, 0, 0, 0, 0, 0, 0, 0, 0, 0, 0, 0, 0, 0, 0, 0, 0, 0, 0, 0, 0,\n",
       "       0, 0, 0, 0, 0, 0, 0, 0, 0, 0, 0, 0, 0, 0, 0, 0, 0, 0, 0, 0, 0, 0,\n",
       "       0, 0, 0, 0, 0, 0, 0, 0, 0, 0, 0, 0, 0, 0, 0, 0, 0, 0, 0, 0, 0, 0,\n",
       "       0, 0, 0, 0, 0, 0, 0, 0, 0, 0, 0, 0, 0, 0, 0, 0, 0, 0, 0, 0, 0, 0,\n",
       "       0, 0, 0, 0, 0, 0, 0, 0, 0, 0, 0, 0, 0, 0, 0, 0, 0, 0, 0, 0, 0, 0,\n",
       "       0, 0, 0, 0, 0, 0, 0, 0, 0, 0, 0, 0, 0, 0, 0, 0, 0, 0, 0, 0, 0, 0,\n",
       "       0, 0, 0, 0, 0, 0, 0, 0, 0, 0, 0, 0, 0, 0, 0, 0, 0, 0, 0, 0, 0, 0,\n",
       "       0, 0, 0, 0, 0, 0, 0, 0, 0, 0, 0, 0, 0, 0, 0, 0, 0, 0, 0, 0, 0, 0,\n",
       "       0, 0, 0, 0, 0, 0, 0, 0, 0, 0, 0, 0, 0, 0, 0, 0, 0, 0, 0, 0, 0, 0,\n",
       "       0, 0, 0, 0, 0, 0, 0, 0, 0, 0, 0, 0, 0, 0, 0, 0, 0, 0, 0, 0, 0, 0,\n",
       "       0, 0, 0, 0, 0, 0, 0, 0, 0, 0, 0, 0, 0, 0, 0, 0, 0, 0, 0, 0, 0, 0,\n",
       "       0, 0, 0, 0, 0, 0, 0, 0, 0, 0, 0, 0, 0, 0, 0, 0, 0, 0, 0, 0, 0, 0,\n",
       "       0, 0, 0, 0, 0, 0, 0, 0, 0, 0, 0, 0, 0, 0, 0, 0, 0, 0, 0, 0, 0, 0,\n",
       "       0, 0, 0, 0, 0, 0, 0, 0, 0, 0, 0, 0, 0, 0, 0, 0, 0, 0, 0, 0, 0, 0,\n",
       "       0, 0, 0, 0, 0, 0, 0, 0, 0, 0, 0, 0, 0, 0, 0, 0, 0, 0, 0, 0, 0, 0,\n",
       "       0, 0, 0, 0, 0, 0, 0, 0, 0, 0, 0, 0, 0, 0, 0, 0, 0, 0, 0, 0, 0, 0,\n",
       "       0, 0, 0, 0, 0, 0, 0, 0, 0, 0, 0, 0, 0, 0, 0, 0, 0, 0, 0, 0, 0, 0,\n",
       "       0, 0, 0, 0, 0, 0, 0, 0, 0, 0, 0, 0, 0, 0, 0, 0, 0, 0, 0, 0, 0, 0,\n",
       "       0, 0, 0, 0, 0, 0, 0, 0, 0, 0, 0, 0, 0, 0, 0, 0, 0, 0, 0, 0, 0, 0,\n",
       "       0, 0, 0, 0, 0, 0, 0, 0, 0, 0, 0, 0, 0, 0, 0, 0, 0, 0, 0, 0, 0, 0,\n",
       "       0, 0, 0, 0, 0, 0, 0, 0, 0, 0, 0, 0, 0, 0, 0, 0, 0, 0, 0, 0, 0, 0,\n",
       "       0, 0, 0, 0, 0, 0, 0, 0, 0, 0, 0, 0, 0, 0, 0, 0, 0, 0, 0, 0, 0, 0,\n",
       "       0, 0, 0, 0, 0, 0, 0, 0, 0, 0, 0, 0, 0, 0, 0, 0, 0, 0, 0, 0, 0, 0,\n",
       "       0, 0, 0, 0, 0, 0, 0, 0, 0, 0, 0, 0, 0, 0, 0, 0, 0, 0, 0, 0, 0, 0,\n",
       "       0, 0, 0, 0, 0, 0, 0, 0, 0, 0, 0, 0, 0, 0, 0, 0, 0, 0, 0, 0, 0, 0,\n",
       "       0, 0, 0, 0, 0, 0, 0, 0, 0, 0, 0, 0, 0, 0, 0, 0, 0, 0, 0, 0, 0, 0,\n",
       "       0, 0, 0, 0, 0, 0, 0, 0, 0, 0, 0, 0, 0, 0, 0, 0, 0, 0, 0, 0, 0, 0,\n",
       "       0, 0, 0, 0, 0, 0, 0, 0, 0, 0, 0, 0, 0, 0, 0, 0, 0, 0, 0, 0, 0, 0,\n",
       "       0, 0, 0, 0, 0, 0, 0, 0, 0, 0, 0, 0, 0, 0, 0, 0, 0, 0, 0, 0, 0, 0,\n",
       "       0, 0, 0, 0, 0, 0, 0, 0, 0, 0, 0, 0, 0, 0, 0, 0, 0, 0, 0, 0, 0, 0,\n",
       "       0, 0, 0, 0, 0, 0, 0, 0, 0, 0, 0, 0, 0, 0, 0, 0, 0, 0, 0, 0, 0, 0,\n",
       "       0, 0, 0, 0, 0, 0, 0, 0, 0, 0, 0, 0, 0, 0, 0, 0, 0, 0, 0, 0, 0, 0,\n",
       "       0, 0, 0, 0, 0, 0, 0, 0, 0, 0, 0, 0, 0, 0, 0, 0, 0, 0, 0, 0, 0, 0,\n",
       "       0, 0, 0, 0, 0, 0, 0, 0, 0, 0, 0, 0, 0, 0, 0, 0, 0, 0, 0, 0, 0, 0,\n",
       "       0, 0, 0, 0, 0, 0, 0, 0, 0, 0, 0, 0, 0, 0, 0, 0, 0, 0, 0, 0, 0, 0,\n",
       "       0, 0, 0, 0, 0, 0, 0, 0, 0, 0, 0, 0, 0, 0, 0, 0, 0, 0, 0, 0, 0, 0,\n",
       "       0, 0, 0, 0, 0, 0, 0, 0, 0, 0, 0, 0, 0, 0, 0, 0, 0, 0, 0, 0, 0, 0,\n",
       "       0, 0, 0, 0, 0, 0, 0, 0, 0, 0, 0, 0, 0, 0, 0, 0, 0, 0, 0, 0, 0, 0,\n",
       "       0, 0, 0, 0, 0, 0, 0, 0, 0, 0, 0, 0, 0, 0, 0, 0, 0, 0, 0, 0, 0, 0,\n",
       "       0, 0, 0, 0, 0, 0, 0, 0, 0, 0, 0, 0, 0, 0, 0, 0, 0, 0, 0, 0, 0, 0,\n",
       "       0, 0, 0, 0, 0, 0, 0, 0, 0, 0, 0, 0, 0, 0, 0, 0, 0, 0, 0, 0, 0, 0,\n",
       "       0, 0, 0, 0, 0, 0, 0, 0, 0, 0, 0, 0, 0, 0, 0, 0, 0, 0, 0, 0, 0, 0,\n",
       "       0, 0, 0, 0, 0, 0, 0, 0, 0, 0, 0, 0, 0, 0, 0, 0, 0, 0, 0, 0, 0, 0,\n",
       "       0, 0, 0, 0, 0, 0, 0, 0, 0, 0, 0, 0, 0, 0, 0, 0, 0, 0, 0, 0, 0, 0,\n",
       "       0, 0, 0, 0, 0, 0, 0, 0, 0, 0, 0, 0, 0, 0, 0, 0, 0, 0, 0, 0, 0, 0,\n",
       "       0, 0, 0, 0, 0, 0, 0, 0, 0, 0, 0, 0, 0, 0, 0, 0, 0, 0, 0, 0, 0, 0,\n",
       "       0, 0, 0, 0, 0, 0, 0, 0, 0, 0, 0, 0, 0, 0, 0, 0, 0, 0, 0, 0, 0, 0,\n",
       "       0, 0, 0, 0, 0, 0, 0, 0, 0, 0, 0, 0, 0, 0, 0, 0, 0, 0, 0, 0, 0, 0,\n",
       "       0, 0, 0, 0, 0, 0, 0, 0, 0, 0, 0, 0, 0, 0, 0, 0, 0, 0, 0, 0, 0, 0,\n",
       "       0, 0, 0, 0, 0, 0, 0, 0, 0, 0, 0, 0, 0, 0, 0, 0, 0, 0, 0, 0, 0, 0,\n",
       "       0, 0, 0, 0, 0, 0, 0, 0, 0, 0, 0, 0, 0, 0, 0, 0, 0, 0, 0, 0, 0, 0,\n",
       "       0, 0, 0, 0, 0, 0, 0, 0, 0, 0, 0, 0, 0, 0, 0, 0, 0, 0, 0, 0, 0, 0,\n",
       "       0, 0, 0, 0, 0, 0, 0, 0, 0, 0, 0, 0, 0, 0, 0, 0, 0, 0, 0, 0, 0, 0,\n",
       "       0, 0, 0, 0, 0, 0, 0, 0, 0, 0, 0, 0, 0, 0, 0, 0, 0, 0, 0, 0, 0, 0,\n",
       "       0, 0, 0, 0, 0, 0, 0, 0, 0, 0, 0, 0, 0, 0, 0, 0, 0, 0, 0, 0, 0, 0,\n",
       "       0, 0, 0, 0, 0, 0, 0, 0, 0, 0, 0, 0, 0, 0, 0, 0, 0, 0, 0, 0, 0, 0,\n",
       "       0, 0, 0, 0, 0, 0, 0, 0, 0, 0, 0, 0, 0, 0, 0, 0, 0, 0, 0, 0, 0, 0,\n",
       "       0, 0, 0, 0, 0, 0, 0, 0, 0, 0, 0, 0, 0, 0, 0, 0, 0, 0, 0, 0, 0, 0,\n",
       "       0, 0, 0, 0, 0, 0, 0, 0, 0, 0, 0, 0, 0, 0, 0, 0, 0, 0, 0, 0, 0, 0,\n",
       "       0, 0, 0, 0, 0, 0, 0, 0, 0, 0, 0, 0, 0, 0, 0, 0, 0, 0, 0, 0, 0, 0,\n",
       "       0, 0, 0, 0, 0, 0, 0, 0, 0, 0, 0, 0, 0, 0, 0, 0, 0, 0, 0, 0, 0, 0,\n",
       "       0, 0, 0, 0, 0, 0, 0, 0, 0, 0, 0, 0, 0, 0, 0, 0, 0, 0, 0, 0, 0, 0,\n",
       "       0, 0, 0, 0, 0, 0, 0, 0, 0, 0, 0, 0, 0, 0, 0, 0, 0, 0, 0, 0, 0, 0,\n",
       "       0, 0, 0, 0, 0, 0, 0, 0, 0, 0, 0, 0, 0, 0, 0, 0, 0, 0, 0, 0, 0, 0,\n",
       "       0, 0, 0, 0, 0, 0, 0, 0, 0, 0, 0, 0, 0, 0, 0, 0, 0, 0, 0, 0, 0, 0,\n",
       "       0, 0, 0, 0, 0, 0, 0, 0, 0, 0, 0, 0, 0, 0, 0, 0, 0, 0, 0, 0, 0, 0,\n",
       "       0, 0, 0, 0, 0, 0, 0, 0, 0, 0, 0, 0, 0, 0, 0, 0, 0, 0, 0, 0, 0, 0,\n",
       "       0, 0, 0, 0, 0, 0, 0, 0, 0, 0, 0, 0, 0, 0, 0, 0, 0, 0, 0, 0, 0, 0,\n",
       "       0, 0, 0, 0, 0, 0, 0, 0, 0, 0, 0, 0, 0, 0, 0, 0, 0, 0, 0, 0, 0, 0,\n",
       "       0, 0, 0, 0, 0, 0, 0, 0, 0, 0, 0, 0, 0, 0, 0, 0, 0, 0, 0, 0, 0, 0,\n",
       "       0, 0, 0, 0, 0, 0, 0, 0, 0, 0, 0, 0, 0, 0, 0, 0, 0, 0, 0, 0, 0, 0,\n",
       "       0, 0, 0, 0, 0, 0, 0, 0, 0, 0, 0, 0, 0, 0, 0, 0, 0, 0, 0, 0, 0, 0,\n",
       "       0, 0, 0, 0, 0, 0, 0, 0, 0, 0, 0, 0, 0, 0, 0, 0, 0, 0, 0, 0, 0, 0,\n",
       "       0, 0, 0, 0, 0, 0, 0, 0, 0, 0, 0, 0, 0, 0, 0, 0, 0, 0, 0, 0, 0, 0,\n",
       "       0, 0, 0, 0, 0, 0, 0, 0, 0, 0, 0, 0, 0, 0, 0, 0, 0, 0, 0, 0, 0, 0,\n",
       "       0, 0, 0, 0, 0, 0, 0, 0, 0, 0, 0, 0, 0, 0, 0, 0, 0, 0, 0, 0, 0, 0,\n",
       "       0, 0, 0, 0, 0, 0, 0, 0, 0, 0, 0, 0, 0, 0, 0, 0, 0, 0, 0, 0, 0, 0,\n",
       "       0, 0, 0, 0, 0, 0, 0, 0, 0, 0, 0, 0, 0, 0, 0, 0, 0, 0, 0, 0, 0, 0,\n",
       "       0, 0, 0, 0, 0, 0, 0, 0, 0, 0, 0, 0, 0, 0, 0, 0, 0, 0, 0, 0, 0, 0,\n",
       "       0, 0, 0, 0, 0, 0, 0, 0, 0, 0, 0, 0, 0, 0, 0, 0, 0, 0, 0, 0, 0, 0,\n",
       "       0, 0, 0, 0, 0, 0, 0, 0, 0, 0, 0, 0, 0, 0, 0, 0, 0, 0, 0, 0, 0, 0,\n",
       "       0, 0, 0, 0, 0, 0, 0, 0, 0, 0, 0, 0, 0, 0, 0, 0, 0, 0, 0, 0, 0, 0,\n",
       "       0, 0, 0, 0, 0, 0, 0, 0, 0, 0, 0, 0, 0, 0, 0, 0, 0, 0, 0, 0, 0, 0,\n",
       "       0, 0, 0, 0, 0, 0, 0, 0, 0, 0, 0, 0, 0, 0, 0, 0, 0, 0, 0, 0, 0, 0,\n",
       "       0, 0, 0, 0, 0, 0, 0, 0, 0, 0, 0, 0, 0, 0, 0, 0, 0, 0, 0, 0, 0, 0,\n",
       "       0, 0, 0, 0, 0, 0, 0, 0, 0, 0, 0, 0, 0, 0, 0, 0, 0, 0, 0, 0, 0, 0,\n",
       "       0, 0, 0, 0, 0, 0, 0, 0, 0, 0, 0, 0, 0, 0, 0, 0, 0, 0, 0, 0, 0, 0,\n",
       "       0, 0, 0, 0, 0, 0, 0, 0, 0, 0, 0, 0, 0, 0, 0, 0, 0, 0, 0, 0, 0, 0,\n",
       "       0, 0, 0, 0, 0, 0, 0, 0, 0, 0, 0, 0, 0, 0, 0, 0, 0, 0, 0, 0, 0, 0,\n",
       "       0, 0, 0, 0, 0, 0, 0, 0, 0, 0, 0, 0, 0, 0, 0, 0, 0, 0, 0, 0, 0, 0,\n",
       "       0, 0, 0, 0, 0, 0, 0, 0, 0, 0, 0, 0, 0, 0, 0, 0, 0, 0, 0, 0, 0, 0,\n",
       "       0, 0, 0, 0, 0, 0, 0, 0, 0, 0, 0, 0, 0, 0, 0, 0, 0, 0, 0, 0, 0, 0,\n",
       "       0, 0, 0, 0, 0, 0, 0, 0, 0, 0, 0, 0, 0, 0, 0, 0, 0, 0, 0, 0, 0, 0,\n",
       "       0, 0, 0, 0, 0, 0, 0, 0, 0, 0, 0, 0])"
      ]
     },
     "execution_count": 118,
     "metadata": {},
     "output_type": "execute_result"
    }
   ],
   "source": [
    "data_labels"
   ]
  },
  {
   "cell_type": "code",
   "execution_count": null,
   "metadata": {},
   "outputs": [],
   "source": []
  }
 ],
 "metadata": {
  "kernelspec": {
   "display_name": "Python 3",
   "language": "python",
   "name": "python3"
  },
  "language_info": {
   "codemirror_mode": {
    "name": "ipython",
    "version": 3
   },
   "file_extension": ".py",
   "mimetype": "text/x-python",
   "name": "python",
   "nbconvert_exporter": "python",
   "pygments_lexer": "ipython3",
   "version": "3.7.1"
  }
 },
 "nbformat": 4,
 "nbformat_minor": 2
}
